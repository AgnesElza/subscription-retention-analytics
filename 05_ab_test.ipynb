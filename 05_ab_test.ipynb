{
  "nbformat": 4,
  "nbformat_minor": 0,
  "metadata": {
    "colab": {
      "provenance": [],
      "authorship_tag": "ABX9TyNXIjPkg9NZR+CdC9+vhVEt",
      "include_colab_link": true
    },
    "kernelspec": {
      "name": "python3",
      "display_name": "Python 3"
    },
    "language_info": {
      "name": "python"
    }
  },
  "cells": [
    {
      "cell_type": "markdown",
      "metadata": {
        "id": "view-in-github",
        "colab_type": "text"
      },
      "source": [
        "<a href=\"https://colab.research.google.com/github/AgnesElza/subscription-retention-analytics/blob/main/05_ab_test.ipynb\" target=\"_parent\"><img src=\"https://colab.research.google.com/assets/colab-badge.svg\" alt=\"Open In Colab\"/></a>"
      ]
    },
    {
      "cell_type": "markdown",
      "source": [
        "This notebook continues from 04_causal_insights.ipynb"
      ],
      "metadata": {
        "id": "4Wc459P7vNEx"
      }
    },
    {
      "cell_type": "code",
      "execution_count": 2,
      "metadata": {
        "colab": {
          "base_uri": "https://localhost:8080/"
        },
        "id": "D4hzPEzlvAac",
        "outputId": "b4792d54-fb2b-4dce-9e18-de88b1eeb162"
      },
      "outputs": [
        {
          "output_type": "stream",
          "name": "stdout",
          "text": [
            "Mounted at /content/drive\n"
          ]
        }
      ],
      "source": [
        "# Mounting Google Drive in Colab\n",
        "from google.colab import drive\n",
        "drive.mount('/content/drive')"
      ]
    },
    {
      "cell_type": "code",
      "source": [
        "import pandas as pd\n",
        "import numpy as np"
      ],
      "metadata": {
        "id": "NZMJzSPzw5_G"
      },
      "execution_count": 3,
      "outputs": []
    },
    {
      "cell_type": "code",
      "source": [
        "# Path to your data\n",
        "data_path = \"/content/drive/MyDrive/data_science_projects/kkbox_project/data\"\n",
        "df = pd.read_csv(f\"{data_path}/kkbox_merged_clean.csv\")"
      ],
      "metadata": {
        "id": "c2OnYdm1vuS4"
      },
      "execution_count": 4,
      "outputs": []
    },
    {
      "cell_type": "code",
      "source": [
        "df.info()"
      ],
      "metadata": {
        "colab": {
          "base_uri": "https://localhost:8080/"
        },
        "id": "CmfjygH3w_Ng",
        "outputId": "ae745da1-744a-4760-9433-a3ea44399c54"
      },
      "execution_count": 5,
      "outputs": [
        {
          "output_type": "stream",
          "name": "stdout",
          "text": [
            "<class 'pandas.core.frame.DataFrame'>\n",
            "RangeIndex: 992931 entries, 0 to 992930\n",
            "Data columns (total 31 columns):\n",
            " #   Column                    Non-Null Count   Dtype  \n",
            "---  ------                    --------------   -----  \n",
            " 0   msno                      992931 non-null  object \n",
            " 1   is_churn                  992931 non-null  int64  \n",
            " 2   city                      992931 non-null  float64\n",
            " 3   gender                    992931 non-null  object \n",
            " 4   registered_via            992931 non-null  float64\n",
            " 5   registration_init_time    992931 non-null  object \n",
            " 6   reg_year                  992931 non-null  int64  \n",
            " 7   reg_month                 992931 non-null  int64  \n",
            " 8   n_txns                    992931 non-null  int64  \n",
            " 9   cancel_rate               992931 non-null  float64\n",
            " 10  auto_renew_rate           992931 non-null  float64\n",
            " 11  avg_plan_days             992931 non-null  float64\n",
            " 12  std_plan_days             992931 non-null  float64\n",
            " 13  share_30d                 992931 non-null  float64\n",
            " 14  zero_paid_rate            992931 non-null  float64\n",
            " 15  avg_amount_paid           992931 non-null  float64\n",
            " 16  total_amount_paid         992931 non-null  int64  \n",
            " 17  avg_list_price            992931 non-null  float64\n",
            " 18  avg_discount_rate         992931 non-null  float64\n",
            " 19  last_txn_date             992931 non-null  object \n",
            " 20  last_expire_date          992931 non-null  object \n",
            " 21  last_gap_days             992931 non-null  float64\n",
            " 22  total_secs_sum            992931 non-null  float64\n",
            " 23  total_listens             992931 non-null  float64\n",
            " 24  complete_listens          992931 non-null  float64\n",
            " 25  active_days               992931 non-null  float64\n",
            " 26  max_unique_songs_per_day  992931 non-null  float64\n",
            " 27  total_secs_mean           992931 non-null  float64\n",
            " 28  avg_unique_songs_per_day  992931 non-null  float64\n",
            " 29  completion_ratio          992931 non-null  float64\n",
            " 30  last_activity_date        992931 non-null  object \n",
            "dtypes: float64(20), int64(5), object(6)\n",
            "memory usage: 234.8+ MB\n"
          ]
        }
      ]
    },
    {
      "cell_type": "markdown",
      "source": [
        "## A/B Testing for Retention — KKBox Case Study"
      ],
      "metadata": {
        "id": "75I7cc5RnHgt"
      }
    },
    {
      "cell_type": "markdown",
      "source": [
        "\n",
        "\n",
        "This notebook demonstrates a **full A/B testing workflow** using the KKBox churn dataset.  \n",
        "While the dataset itself does not contain a real retention intervention (e.g., coupons or offers),  \n",
        "we simulate an experiment by randomly assigning users to **Treatment** and **Control** groups.  \n",
        "\n",
        "The goal is to show how data scientists design and analyze experiments in practice, including:  \n",
        "\n",
        "- **Randomization** (deterministic hashing by user_id)  \n",
        "- **Sample Ratio Mismatch (SRM) check** to validate group sizes  \n",
        "- **Covariate balance checks** on key pre-period features  \n",
        "- **Outcome analysis** (renewal rate difference + confidence interval)  \n",
        "- **Variance reduction with CUPED** (Controlled-experiment Using Pre-Experiment Data)  \n",
        "- **Decision framework** (ship / don’t ship / inconclusive)  \n",
        "\n",
        "### Why this matters\n",
        "Experimentation is one of the most critical skills for product data scientists.  \n",
        "It bridges statistical rigor with business impact — telling us **not just what will happen**,  \n",
        "but whether a product change **causes** improvement in user behavior.  \n",
        "\n",
        "### Note\n",
        "Since no real coupon was applied in this dataset, the effect size here is near zero.  \n",
        "The focus of this notebook is on demonstrating the **methodology and workflow**  \n",
        "that can be directly applied to real experiments (e.g., retention offers, pricing tests, UX changes).\n"
      ],
      "metadata": {
        "id": "Wwt3S9O_mq2G"
      }
    },
    {
      "cell_type": "markdown",
      "source": [
        "## Add Randomization"
      ],
      "metadata": {
        "id": "7qG-E-WoYjCg"
      }
    },
    {
      "cell_type": "markdown",
      "source": [
        "We need to split users (msno) into Treatment (T) and Control (C) groups.\n",
        "Use deterministic hashing (so the split is consistent)"
      ],
      "metadata": {
        "id": "3PvFWqAQYolV"
      }
    },
    {
      "cell_type": "code",
      "source": [
        "import hashlib\n",
        "\n",
        "def assign_variant(user_id, exp_id=\"kkbox_coupon_v1\", p_treat=0.5):\n",
        "    h = hashlib.md5(f\"{exp_id}:{user_id}\".encode()).hexdigest()\n",
        "    bucket = int(h[:8], 16) / 16**8\n",
        "    return \"T\" if bucket < p_treat else \"C\"\n",
        "\n",
        "df[\"variant\"] = df[\"msno\"].astype(str).apply(assign_variant)\n",
        "df[\"variant\"].value_counts(normalize=True)"
      ],
      "metadata": {
        "colab": {
          "base_uri": "https://localhost:8080/",
          "height": 178
        },
        "id": "14FTp5WkxCTy",
        "outputId": "35440385-c19d-40f3-9071-532bbc1a181d"
      },
      "execution_count": 6,
      "outputs": [
        {
          "output_type": "execute_result",
          "data": {
            "text/plain": [
              "variant\n",
              "T    0.500343\n",
              "C    0.499657\n",
              "Name: proportion, dtype: float64"
            ],
            "text/html": [
              "<div>\n",
              "<style scoped>\n",
              "    .dataframe tbody tr th:only-of-type {\n",
              "        vertical-align: middle;\n",
              "    }\n",
              "\n",
              "    .dataframe tbody tr th {\n",
              "        vertical-align: top;\n",
              "    }\n",
              "\n",
              "    .dataframe thead th {\n",
              "        text-align: right;\n",
              "    }\n",
              "</style>\n",
              "<table border=\"1\" class=\"dataframe\">\n",
              "  <thead>\n",
              "    <tr style=\"text-align: right;\">\n",
              "      <th></th>\n",
              "      <th>proportion</th>\n",
              "    </tr>\n",
              "    <tr>\n",
              "      <th>variant</th>\n",
              "      <th></th>\n",
              "    </tr>\n",
              "  </thead>\n",
              "  <tbody>\n",
              "    <tr>\n",
              "      <th>T</th>\n",
              "      <td>0.500343</td>\n",
              "    </tr>\n",
              "    <tr>\n",
              "      <th>C</th>\n",
              "      <td>0.499657</td>\n",
              "    </tr>\n",
              "  </tbody>\n",
              "</table>\n",
              "</div><br><label><b>dtype:</b> float64</label>"
            ]
          },
          "metadata": {},
          "execution_count": 6
        }
      ]
    },
    {
      "cell_type": "markdown",
      "source": [
        "Each user (msno) has been consistently and fairly assigned to T or C.\n",
        "\n",
        "We now have the foundation of a valid A/B test setup."
      ],
      "metadata": {
        "id": "e-pWI4pdf-1J"
      }
    },
    {
      "cell_type": "markdown",
      "source": [
        "## SRM (Sample Ratio Mismatch) Test"
      ],
      "metadata": {
        "id": "6277Oa9fgFmW"
      }
    },
    {
      "cell_type": "markdown",
      "source": [
        "Now let’s formally check that the group proportions match expectation (companies do this before analyzing any outcome)."
      ],
      "metadata": {
        "id": "xLBDpvGJgKRj"
      }
    },
    {
      "cell_type": "code",
      "source": [
        "from scipy.stats import chi2_contingency\n",
        "\n",
        "n_t = (df.variant==\"T\").sum()\n",
        "n_c = (df.variant==\"C\").sum()\n",
        "total = n_t + n_c\n",
        "expected = [0.5*total, 0.5*total]\n",
        "\n",
        "chi2, p, *_ = chi2_contingency([[n_t, n_c], expected])\n",
        "print(f\"SRM test p-value = {p:.3g}\")"
      ],
      "metadata": {
        "colab": {
          "base_uri": "https://localhost:8080/"
        },
        "id": "RI4KHV9rYy6Z",
        "outputId": "b04bc8df-ad76-48b5-a2c6-f5fc80e4f9fc"
      },
      "execution_count": 7,
      "outputs": [
        {
          "output_type": "stream",
          "name": "stdout",
          "text": [
            "SRM test p-value = 0.63\n"
          ]
        }
      ]
    },
    {
      "cell_type": "markdown",
      "source": [
        "No sample ratio mismatch → the groups are split as expected (50/50)"
      ],
      "metadata": {
        "id": "sjcfpedagn_L"
      }
    },
    {
      "cell_type": "markdown",
      "source": [
        "## Check covariate balance"
      ],
      "metadata": {
        "id": "Jiqot_phk41E"
      }
    },
    {
      "cell_type": "markdown",
      "source": [
        "### Step 1: Pick covariates to test"
      ],
      "metadata": {
        "id": "vzI6uLhJk-lA"
      }
    },
    {
      "cell_type": "markdown",
      "source": [
        "These are good predictors of churn (pre-period features):\n",
        "\n",
        "- n_txns – number of transactions\n",
        "\n",
        "- auto_renew_rate – tendency to auto-renew\n",
        "\n",
        "- avg_plan_days – average subscription length\n",
        "\n",
        "- share_30d – music sharing behavior\n",
        "\n",
        "- avg_discount_rate – history of discounts\n",
        "\n",
        "- avg_unique_songs_per_day – engagement"
      ],
      "metadata": {
        "id": "PIFqqrMGlE8e"
      }
    },
    {
      "cell_type": "markdown",
      "source": [
        "### Step 2: Run statistical tests"
      ],
      "metadata": {
        "id": "IeDmmpUPlOPV"
      }
    },
    {
      "cell_type": "markdown",
      "source": [
        "Numeric → Welch’s t-test\n",
        "\n",
        "Categorical (like city) → Chi-square test"
      ],
      "metadata": {
        "id": "qfU16NIdlboQ"
      }
    },
    {
      "cell_type": "code",
      "source": [
        "from scipy.stats import ttest_ind, chi2_contingency\n",
        "\n",
        "# Define covariates\n",
        "numeric_covs = [\n",
        "    \"n_txns\", \"auto_renew_rate\", \"avg_plan_days\",\n",
        "    \"share_30d\", \"avg_discount_rate\", \"avg_unique_songs_per_day\",\n",
        "    \"last_gap_days\", \"cancel_rate\", \"total_listens\", \"active_days\",\n",
        "    \"total_amount_paid\", \"avg_list_price\", \"avg_amount_paid\", \"completion_ratio\"\n",
        "]\n",
        "\n",
        "categorical_covs = [\"city\", \"gender\", \"reg_year\", \"reg_month\", \"registered_via\"]\n",
        "\n",
        "# Numeric covariate balance checks (Welch’s t-test)\n",
        "for cov in numeric_covs:\n",
        "    if cov in df.columns:\n",
        "        t, p = ttest_ind(\n",
        "            df.loc[df.variant==\"T\", cov],\n",
        "            df.loc[df.variant==\"C\", cov],\n",
        "            equal_var=False, nan_policy=\"omit\"\n",
        "        )\n",
        "        print(f\"{cov:25s} | p={p:.3f}\")\n",
        "\n",
        "# Categorical covariate balance checks (Chi-square test)\n",
        "for cov in categorical_covs:\n",
        "    if cov in df.columns:\n",
        "        tab = pd.crosstab(df[cov], df[\"variant\"])\n",
        "        if tab.shape[0] > 1:  # skip degenerate\n",
        "            chi2, p, *_ = chi2_contingency(tab.values)\n",
        "            print(f\"{cov + ' (categorical)':25s} | p={p:.3f}\")\n"
      ],
      "metadata": {
        "colab": {
          "base_uri": "https://localhost:8080/"
        },
        "id": "VYm_1GRcgPGW",
        "outputId": "f2f82e2f-09ae-492c-c667-18a624304bae"
      },
      "execution_count": 10,
      "outputs": [
        {
          "output_type": "stream",
          "name": "stdout",
          "text": [
            "n_txns                    | p=0.231\n",
            "auto_renew_rate           | p=0.386\n",
            "avg_plan_days             | p=0.660\n",
            "share_30d                 | p=0.273\n",
            "avg_discount_rate         | p=0.778\n",
            "avg_unique_songs_per_day  | p=0.839\n",
            "last_gap_days             | p=0.648\n",
            "cancel_rate               | p=0.085\n",
            "total_listens             | p=0.762\n",
            "active_days               | p=0.355\n",
            "total_amount_paid         | p=0.315\n",
            "avg_list_price            | p=0.823\n",
            "avg_amount_paid           | p=0.694\n",
            "completion_ratio          | p=0.987\n",
            "city (categorical)        | p=0.663\n",
            "gender (categorical)      | p=0.407\n",
            "reg_year (categorical)    | p=0.361\n",
            "reg_month (categorical)   | p=0.464\n",
            "registered_via (categorical) | p=0.269\n"
          ]
        }
      ]
    },
    {
      "cell_type": "markdown",
      "source": [
        "All p-values > 0.05 → balanced groups."
      ],
      "metadata": {
        "id": "CFjnz0x8mJns"
      }
    },
    {
      "cell_type": "markdown",
      "source": [
        "## Outcome Analysis: Difference in Means"
      ],
      "metadata": {
        "id": "SI8TxgbPkbWI"
      }
    },
    {
      "cell_type": "markdown",
      "source": [
        "We now compare the primary outcome (renewal rate) between Treatment and Control.  \n",
        "This gives us the estimated lift and its 95% confidence interval."
      ],
      "metadata": {
        "id": "LIULPYgGoXoP"
      }
    },
    {
      "cell_type": "code",
      "source": [
        "import numpy as np\n",
        "from scipy.stats import norm\n",
        "\n",
        "# Define outcome (renewed = 1 - churn)\n",
        "df[\"renewed\"] = 1 - df[\"is_churn\"]\n",
        "\n",
        "# Split treatment and control\n",
        "y_t = df.loc[df.variant==\"T\", \"renewed\"]\n",
        "y_c = df.loc[df.variant==\"C\", \"renewed\"]\n",
        "\n",
        "# Renewal rates\n",
        "p_t, p_c = y_t.mean(), y_c.mean()\n",
        "diff = p_t - p_c\n",
        "\n",
        "# Standard error of difference in proportions\n",
        "se = np.sqrt(p_t*(1-p_t)/len(y_t) + p_c*(1-p_c)/len(y_c))\n",
        "\n",
        "# 95% confidence interval\n",
        "z = norm.ppf(0.975)   # z-score for 95%\n",
        "ci = (diff - z*se, diff + z*se)\n",
        "\n",
        "print(\"=== Renewal Rate A/B Test (Raw) ===\")\n",
        "print(f\"Treatment rate (T): {p_t:.2%}   [n={len(y_t):,}]\")\n",
        "print(f\"Control rate (C):   {p_c:.2%}   [n={len(y_c):,}]\")\n",
        "print(f\"Difference (Lift):  {diff:.2%}\")\n",
        "print(f\"95% CI: ({ci[0]:.2%}, {ci[1]:.2%})\")\n",
        "\n",
        "# Optional decision rule\n",
        "if ci[0] > 0:\n",
        "    print(\"Decision: 🚀 Ship (significant positive lift)\")\n",
        "elif ci[1] < 0:\n",
        "    print(\"Decision: ❌ Do not ship (significant negative impact)\")\n",
        "else:\n",
        "    print(\"Decision: 🤔 Inconclusive (CI crosses 0)\")\n"
      ],
      "metadata": {
        "colab": {
          "base_uri": "https://localhost:8080/"
        },
        "id": "op050tF0lrn5",
        "outputId": "f3d6467e-4250-4679-d156-e77e725fa50c"
      },
      "execution_count": 11,
      "outputs": [
        {
          "output_type": "stream",
          "name": "stdout",
          "text": [
            "=== Renewal Rate A/B Test (Raw) ===\n",
            "Treatment rate (T): 93.61%   [n=496,806]\n",
            "Control rate (C):   93.60%   [n=496,125]\n",
            "Difference (Lift):  0.01%\n",
            "95% CI: (-0.08%, 0.11%)\n",
            "Decision: 🤔 Inconclusive (CI crosses 0)\n"
          ]
        }
      ]
    },
    {
      "cell_type": "markdown",
      "source": [
        "## CUPED(Controlled-experiment Using Pre-Experiment Data) variance reduction"
      ],
      "metadata": {
        "id": "rF6qhigokfI2"
      }
    },
    {
      "cell_type": "markdown",
      "source": [
        "Decided to still use CUPED for variance reduction (to show technique)\n",
        "\n",
        "In A/B tests, randomization makes groups comparable in expectation, but there’s always noise in outcomes (e.g., some users churn more just because they were lighter listeners before).\n",
        "\n",
        "That noise = larger variance = wider confidence intervals = needing more users or longer experiments.\n",
        "\n",
        "CUPED reduces variance by using pre-period information to “de-noise” the outcome."
      ],
      "metadata": {
        "id": "qQWPWcA5mWPQ"
      }
    },
    {
      "cell_type": "code",
      "source": [
        "import numpy as np\n",
        "from scipy.stats import norm\n",
        "\n",
        "# Outcome and covariate\n",
        "y = df[\"renewed\"].astype(float)\n",
        "x = df[\"last_gap_days\"].astype(float)\n",
        "\n",
        "# --- 1) Compute theta\n",
        "theta = np.cov(y, x, ddof=1)[0,1] / np.var(x, ddof=1)\n",
        "print(f\"Theta (correction factor) = {theta:.4f}\")\n",
        "\n",
        "# --- 2) Adjusted outcome\n",
        "df[\"renewed_cuped\"] = y - theta * (x - x.mean())\n",
        "\n",
        "# --- 3) Variance reduction\n",
        "var_before = y.var(ddof=1)\n",
        "var_after = df[\"renewed_cuped\"].var(ddof=1)\n",
        "print(f\"Variance before: {var_before:.6f}\")\n",
        "print(f\"Variance after : {var_after:.6f}\")\n",
        "print(f\"Variance reduction: {(1 - var_after/var_before)*100:.1f}%\")\n",
        "\n",
        "# --- 4) A/B test with CUPED-adjusted outcome\n",
        "y_t = df.loc[df.variant==\"T\", \"renewed_cuped\"]\n",
        "y_c = df.loc[df.variant==\"C\", \"renewed_cuped\"]\n",
        "\n",
        "diff = y_t.mean() - y_c.mean()\n",
        "se = np.sqrt(y_t.var(ddof=1)/len(y_t) + y_c.var(ddof=1)/len(y_c))\n",
        "z = norm.ppf(0.975)\n",
        "ci = (diff - z*se, diff + z*se)\n",
        "\n",
        "print(\"\\n=== Renewal Rate A/B Test (CUPED) ===\")\n",
        "print(f\"Adjusted mean (T): {y_t.mean():.4f}\")\n",
        "print(f\"Adjusted mean (C): {y_c.mean():.4f}\")\n",
        "print(f\"Difference (Lift): {diff:.4f}\")\n",
        "print(f\"95% CI: ({ci[0]:.4f}, {ci[1]:.4f})\")\n"
      ],
      "metadata": {
        "colab": {
          "base_uri": "https://localhost:8080/"
        },
        "id": "o9t4ieIMs9xF",
        "outputId": "6ab5ca5d-e965-4a39-e4b0-dac3c5433de7"
      },
      "execution_count": 12,
      "outputs": [
        {
          "output_type": "stream",
          "name": "stdout",
          "text": [
            "Theta (correction factor) = -0.0017\n",
            "Variance before: 0.059837\n",
            "Variance after : 0.055161\n",
            "Variance reduction: 7.8%\n",
            "\n",
            "=== Renewal Rate A/B Test (CUPED) ===\n",
            "Adjusted mean (T): 0.9361\n",
            "Adjusted mean (C): 0.9360\n",
            "Difference (Lift): 0.0001\n",
            "95% CI: (-0.0009, 0.0010)\n"
          ]
        }
      ]
    },
    {
      "cell_type": "markdown",
      "source": [
        "CUPED worked (smaller variance), but result remains inconclusive."
      ],
      "metadata": {
        "id": "J2VM1fOemgzj"
      }
    },
    {
      "cell_type": "markdown",
      "source": [
        "This dataset does not contain an actual coupon intervention, so the treatment/control split is simulated. As expected, the estimated effect is ~0. However, the project demonstrates the full A/B testing workflow (randomization, SRM, balance checks, CUPED variance reduction) that I would apply to a real retention experiment.\n",
        "\n",
        "In real-world scenarios where offers are given, the same pipeline would capture true differences in churn outcomes. For example, companies often observe 1–3pp lift in renewal when targeted discounts are offered."
      ],
      "metadata": {
        "id": "EU25ufsZkJdq"
      }
    }
  ]
}