{
  "nbformat": 4,
  "nbformat_minor": 0,
  "metadata": {
    "colab": {
      "provenance": [],
      "authorship_tag": "ABX9TyOu6m6+kw5IyXiAjczmu8dQ",
      "include_colab_link": true
    },
    "kernelspec": {
      "name": "python3",
      "display_name": "Python 3"
    },
    "language_info": {
      "name": "python"
    }
  },
  "cells": [
    {
      "cell_type": "markdown",
      "metadata": {
        "id": "view-in-github",
        "colab_type": "text"
      },
      "source": [
        "<a href=\"https://colab.research.google.com/github/AgnesElza/subscription-retention-analytics/blob/main/04_causal_insights.ipynb\" target=\"_parent\"><img src=\"https://colab.research.google.com/assets/colab-badge.svg\" alt=\"Open In Colab\"/></a>"
      ]
    },
    {
      "cell_type": "markdown",
      "source": [
        "This notebook continues from **04_modeling.ipynb**, where we trained and evaluated churn prediction models.  \n",
        "Here, we shift focus from *prediction* (\"who is likely to churn?\") to *causation* (\"what factors actually drive churn, and what would happen if we intervene?\").  "
      ],
      "metadata": {
        "id": "dKaoxHvriNlh"
      }
    },
    {
      "cell_type": "code",
      "execution_count": 5,
      "metadata": {
        "colab": {
          "base_uri": "https://localhost:8080/"
        },
        "id": "EaNqwnvOiJE8",
        "outputId": "d3347fe5-e787-4fbf-c10b-0aacb00cb470"
      },
      "outputs": [
        {
          "output_type": "stream",
          "name": "stdout",
          "text": [
            "Drive already mounted at /content/drive; to attempt to forcibly remount, call drive.mount(\"/content/drive\", force_remount=True).\n"
          ]
        }
      ],
      "source": [
        "# Mounting Google Drive in Colab\n",
        "from google.colab import drive\n",
        "drive.mount('/content/drive')"
      ]
    },
    {
      "cell_type": "markdown",
      "source": [
        "## Introduction to Causal Inference\n",
        "\n",
        "In the previous notebook, we focused on **prediction**:  \n",
        "*Who is likely to churn?*  \n",
        "\n",
        "In this notebook, we move to **causal inference**:  \n",
        "*What actually drives churn, and what would happen if we intervene?*\n",
        "\n",
        "### Key Concepts\n",
        "\n",
        "- **Treatment (T):** The factor we want to test, e.g., whether a user is on auto-renew.  \n",
        "- **Outcome (Y):** The result we care about, e.g., whether the user churns (`is_churn`).  \n",
        "- **Confounders (X):** Other factors that influence both treatment and outcome, e.g., user engagement, number of transactions, demographics.\n",
        "\n",
        "### Why Prediction Is Not Enough\n",
        "A predictive model can tell us *who is at risk*, but it doesn’t tell us *why*.  \n",
        "For example, auto-renew users churn less — but is that because of auto-renew, or because they are already highly engaged?\n",
        "\n",
        "### The Fundamental Problem\n",
        "For each user, we cannot observe both worlds:\n",
        "- World A: user is on auto-renew.  \n",
        "- World B: user is not on auto-renew.  \n",
        "\n",
        "We only see one of these outcomes in real data.\n",
        "\n",
        "### The Goal\n",
        "Causal inference tries to mimic a randomized experiment (like an A/B test) using observational data:\n",
        "- Make treated (auto-renew = 1) and untreated (auto-renew = 0) groups **comparable** on confounders.  \n",
        "- Then the difference in churn rates can be attributed to the treatment itself.\n",
        "\n",
        "### Methods\n",
        "We will use:\n",
        "- **Propensity scores** (probability of being in treatment given confounders)  \n",
        "- **Matching / weighting** to balance treated and control groups  \n",
        "- **Regression adjustment and doubly robust methods** for effect estimation  \n",
        "- **Sensitivity analysis** to test robustness against hidden biases\n"
      ],
      "metadata": {
        "id": "gOOa9Ch6-CBD"
      }
    },
    {
      "cell_type": "markdown",
      "source": [
        "## Setup & Load Data"
      ],
      "metadata": {
        "id": "Ii_qwgBPi1rf"
      }
    },
    {
      "cell_type": "code",
      "source": [
        "import pandas as pd\n",
        "import numpy as np\n",
        "\n",
        "from sklearn.linear_model import LogisticRegression\n",
        "from sklearn.ensemble import RandomForestClassifier\n",
        "from sklearn.preprocessing import StandardScaler\n",
        "from sklearn.model_selection import train_test_split\n",
        "\n",
        "import matplotlib.pyplot as plt\n",
        "import networkx as nx\n",
        "\n",
        "import statsmodels.api as sm\n",
        "import statsmodels.formula.api as smf\n",
        "from statsmodels.stats.mediation import Mediation"
      ],
      "metadata": {
        "id": "NI21tSYakyDw"
      },
      "execution_count": 1,
      "outputs": []
    },
    {
      "cell_type": "code",
      "source": [
        "# Path to your data\n",
        "data_path = \"/content/drive/MyDrive/data_science_projects/kkbox_project/data\"\n",
        "df = pd.read_csv(f\"{data_path}/kkbox_merged_clean.csv\")"
      ],
      "metadata": {
        "id": "9nmQtNfRiQRQ"
      },
      "execution_count": 2,
      "outputs": []
    },
    {
      "cell_type": "code",
      "source": [
        "print(\"Shape:\", df.shape)\n",
        "print(df.head(2))"
      ],
      "metadata": {
        "colab": {
          "base_uri": "https://localhost:8080/"
        },
        "id": "yUrDaHAukzl0",
        "outputId": "b77883a5-0ca9-4b2b-8d67-aded16dd856b"
      },
      "execution_count": 3,
      "outputs": [
        {
          "output_type": "stream",
          "name": "stdout",
          "text": [
            "Shape: (992931, 31)\n",
            "                                           msno  is_churn  city  gender  \\\n",
            "0  waLDQMmcOu2jLDaV1ddDkgCrB/jl6sD66Xzs0Vqax1Y=         1  18.0  female   \n",
            "1  QA7uiXy8vIbUSPOkCf9RwQ3FsT8jVq2OxDr8zqa7bRQ=         1  10.0    male   \n",
            "\n",
            "   registered_via registration_init_time  reg_year  reg_month  n_txns  \\\n",
            "0             9.0             2005-04-06      2005          4       2   \n",
            "1             9.0             2005-04-07      2005          4      23   \n",
            "\n",
            "   cancel_rate  ...  last_gap_days  total_secs_sum  total_listens  \\\n",
            "0     0.000000  ...           30.0    1.080519e+05          506.0   \n",
            "1     0.086957  ...           25.0    2.615312e+06        10845.0   \n",
            "\n",
            "   complete_listens  active_days  max_unique_songs_per_day  total_secs_mean  \\\n",
            "0             420.0         26.0                      74.0      4155.840476   \n",
            "1           10120.0        521.0                      91.0      5019.793002   \n",
            "\n",
            "   avg_unique_songs_per_day  completion_ratio last_activity_date  \n",
            "0                 17.769231          0.830040         2017-02-08  \n",
            "1                 13.880998          0.933149         2017-02-15  \n",
            "\n",
            "[2 rows x 31 columns]\n"
          ]
        }
      ]
    },
    {
      "cell_type": "code",
      "source": [
        "df.info()"
      ],
      "metadata": {
        "colab": {
          "base_uri": "https://localhost:8080/"
        },
        "id": "JOzzej8FxQQ-",
        "outputId": "b86f5122-b113-4046-c001-c63b46b39e90"
      },
      "execution_count": 4,
      "outputs": [
        {
          "output_type": "stream",
          "name": "stdout",
          "text": [
            "<class 'pandas.core.frame.DataFrame'>\n",
            "RangeIndex: 992931 entries, 0 to 992930\n",
            "Data columns (total 31 columns):\n",
            " #   Column                    Non-Null Count   Dtype  \n",
            "---  ------                    --------------   -----  \n",
            " 0   msno                      992931 non-null  object \n",
            " 1   is_churn                  992931 non-null  int64  \n",
            " 2   city                      992931 non-null  float64\n",
            " 3   gender                    992931 non-null  object \n",
            " 4   registered_via            992931 non-null  float64\n",
            " 5   registration_init_time    992931 non-null  object \n",
            " 6   reg_year                  992931 non-null  int64  \n",
            " 7   reg_month                 992931 non-null  int64  \n",
            " 8   n_txns                    992931 non-null  int64  \n",
            " 9   cancel_rate               992931 non-null  float64\n",
            " 10  auto_renew_rate           992931 non-null  float64\n",
            " 11  avg_plan_days             992931 non-null  float64\n",
            " 12  std_plan_days             992931 non-null  float64\n",
            " 13  share_30d                 992931 non-null  float64\n",
            " 14  zero_paid_rate            992931 non-null  float64\n",
            " 15  avg_amount_paid           992931 non-null  float64\n",
            " 16  total_amount_paid         992931 non-null  int64  \n",
            " 17  avg_list_price            992931 non-null  float64\n",
            " 18  avg_discount_rate         992931 non-null  float64\n",
            " 19  last_txn_date             992931 non-null  object \n",
            " 20  last_expire_date          992931 non-null  object \n",
            " 21  last_gap_days             992931 non-null  float64\n",
            " 22  total_secs_sum            992931 non-null  float64\n",
            " 23  total_listens             992931 non-null  float64\n",
            " 24  complete_listens          992931 non-null  float64\n",
            " 25  active_days               992931 non-null  float64\n",
            " 26  max_unique_songs_per_day  992931 non-null  float64\n",
            " 27  total_secs_mean           992931 non-null  float64\n",
            " 28  avg_unique_songs_per_day  992931 non-null  float64\n",
            " 29  completion_ratio          992931 non-null  float64\n",
            " 30  last_activity_date        992931 non-null  object \n",
            "dtypes: float64(20), int64(5), object(6)\n",
            "memory usage: 234.8+ MB\n"
          ]
        }
      ]
    },
    {
      "cell_type": "markdown",
      "source": [
        "## Define Treatment & Outcome"
      ],
      "metadata": {
        "id": "ImslSbnkp2Hg"
      }
    },
    {
      "cell_type": "markdown",
      "source": [
        "For causal inference, we need to clearly specify:\n",
        "- **Treatment (T):** Whether a user is set to auto-renew (`auto_renew_rate > 0` → treated).\n",
        "- **Outcome (Y):** Churn status (`is_churn`).\n",
        "- **Confounders (X):** Factors that affect both treatment and churn (engagement, pricing, demographics).\n",
        "\n",
        "**Why?**\n",
        "- Prediction told us who is *likely* to churn.\n",
        "- Causal inference asks: *What would happen to churn if we turned auto-renew on or off, controlling for other factors?*\n",
        "\n"
      ],
      "metadata": {
        "id": "NNQEF-XaquTu"
      }
    },
    {
      "cell_type": "code",
      "source": [
        "# Work on a copy for causal analysis\n",
        "dfc = df.copy()\n",
        "\n",
        "# Define treatment\n",
        "dfc[\"treatment\"] = (dfc[\"auto_renew_rate\"] > 0).astype(int)\n",
        "\n",
        "# Outcome\n",
        "outcome = \"is_churn\""
      ],
      "metadata": {
        "id": "hSuAw-tlwk7z"
      },
      "execution_count": 5,
      "outputs": []
    },
    {
      "cell_type": "code",
      "source": [
        "# confounders we want to use\n",
        "confounders = [\n",
        "    \"city\",\"gender\",\"registered_via\",\"reg_year\",\"reg_month\",\n",
        "    \"n_txns\",\"last_gap_days\",\n",
        "    \"total_secs_sum\",\"total_listens\",\"complete_listens\",\n",
        "    \"active_days\",\"max_unique_songs_per_day\",\n",
        "    \"total_secs_mean\",\"avg_unique_songs_per_day\",\"completion_ratio\"\n",
        "]\n",
        "\n",
        "# Keep only columns that actually exist in dfc\n",
        "confounders = [c for c in confounders if c in dfc.columns]\n",
        "print(\"Using confounders:\", confounders)\n",
        "\n",
        "# one-hot encode categoricalscat_cols = [\"gender\", \"registered_via\", \"city\"]\n",
        "cat_cols = [\"gender\", \"registered_via\", \"city\"]\n",
        "X = dfc[confounders].copy()\n",
        "X = pd.get_dummies(X, columns=cat_cols, drop_first=True)\n",
        "\n",
        "print(\"X shape:\", X.shape)"
      ],
      "metadata": {
        "colab": {
          "base_uri": "https://localhost:8080/"
        },
        "id": "GoXfkMQswNvW",
        "outputId": "4cedaf04-6f88-4d7c-ba86-54d05ad1961b"
      },
      "execution_count": 11,
      "outputs": [
        {
          "output_type": "stream",
          "name": "stdout",
          "text": [
            "Using confounders: ['city', 'gender', 'registered_via', 'reg_year', 'reg_month', 'n_txns', 'last_gap_days', 'total_secs_sum', 'total_listens', 'complete_listens', 'active_days', 'max_unique_songs_per_day', 'total_secs_mean', 'avg_unique_songs_per_day', 'completion_ratio']\n",
            "X shape: (992931, 40)\n"
          ]
        }
      ]
    },
    {
      "cell_type": "markdown",
      "source": [
        "Before adjusting for confounders, let’s just see the raw churn rates"
      ],
      "metadata": {
        "id": "YA_3euWc0gTr"
      }
    },
    {
      "cell_type": "markdown",
      "source": [
        "## Naive Churn Difference"
      ],
      "metadata": {
        "id": "4o7MGnkl4Xyr"
      }
    },
    {
      "cell_type": "code",
      "source": [
        "# Quick naive churn difference (baseline before causal)\n",
        "raw = dfc.groupby(\"treatment\")[\"is_churn\"].agg(churn_rate=\"mean\", n=\"count\")\n",
        "print(raw)\n",
        "print(\"Naive diff (treated - control):\", raw.loc[1, \"churn_rate\"] - raw.loc[0, \"churn_rate\"])"
      ],
      "metadata": {
        "colab": {
          "base_uri": "https://localhost:8080/"
        },
        "id": "Z1youxUEyjcQ",
        "outputId": "e9de8644-d84c-43b3-eac4-54e94f1e3dbd"
      },
      "execution_count": 12,
      "outputs": [
        {
          "output_type": "stream",
          "name": "stdout",
          "text": [
            "           churn_rate       n\n",
            "treatment                    \n",
            "0            0.326295   97461\n",
            "1            0.035367  895470\n",
            "Naive diff (treated - control): -0.2909277181151498\n"
          ]
        }
      ]
    },
    {
      "cell_type": "markdown",
      "source": [
        "From the raw group comparison:\n",
        "\n",
        "- **No auto-renew (treatment = 0):** ~32.6% churned  \n",
        "- **Auto-renew (treatment = 1):** ~3.5% churned  \n",
        "- **Naive difference (treated – control):** −29 percentage points  \n",
        "\n",
        "Why does this matter?\n",
        "\n",
        "- At face value, auto-renew users churn *much less*.  \n",
        "- But this number is **not causal** yet — it’s confounded.  \n",
        "  - Example: users on auto-renew might also be heavier listeners, have more transactions, or different demographics.  \n",
        "  - Those same factors could explain the huge gap, not just auto-renew itself.\n"
      ],
      "metadata": {
        "id": "CbIVuqJE4a94"
      }
    },
    {
      "cell_type": "markdown",
      "source": [
        "## Estimate Causal Effect of Auto-Renew on Churn"
      ],
      "metadata": {
        "id": "13oz-GPErynv"
      }
    },
    {
      "cell_type": "markdown",
      "source": [
        "### Propensity Score Overlap Check"
      ],
      "metadata": {
        "id": "sIjrH5xd5MKE"
      }
    },
    {
      "cell_type": "markdown",
      "source": [
        "\n",
        "\n",
        "Before estimating causal effects, we need to check whether treated and untreated users are comparable.\n",
        "\n",
        "- **Propensity score** = the probability of being in the treatment group (auto-renew) given confounders.  \n",
        "- Good causal inference requires **overlap**: for each combination of user characteristics, there should be some users in both treatment and control groups.  \n",
        "- If overlap is poor (e.g., almost everyone with certain characteristics is only in one group), then estimates in that region are unreliable.\n",
        "\n",
        "**Next step:**  \n",
        "Estimate propensity scores with a logistic regression model and plot their distributions for the treated vs control groups. This shows whether we have enough common support to proceed with causal effect estimation.\n"
      ],
      "metadata": {
        "id": "Q45giT7x5Klb"
      }
    },
    {
      "cell_type": "markdown",
      "source": [
        "#### Propensity Score Estimation (Logistic Regression)"
      ],
      "metadata": {
        "id": "-yO4dqieDPC2"
      }
    },
    {
      "cell_type": "code",
      "source": [
        "# Fit logistic regression to estimate propensity scores\n",
        "logit = LogisticRegression(max_iter=1000)\n",
        "logit.fit(X, dfc[\"treatment\"])\n",
        "\n",
        "propensity_scores = logit.predict_proba(X)[:,1]\n",
        "dfc[\"propensity_score\"] = propensity_scores\n",
        "\n",
        "# Summary\n",
        "print(dfc[\"propensity_score\"].describe(percentiles=[.01,.05,.25,.5,.75,.95,.99]))"
      ],
      "metadata": {
        "colab": {
          "base_uri": "https://localhost:8080/"
        },
        "id": "GikQv1EJ5W28",
        "outputId": "7a9ee09f-4821-48a6-b54a-e525e22661c1"
      },
      "execution_count": 13,
      "outputs": [
        {
          "output_type": "stream",
          "name": "stdout",
          "text": [
            "count    992931.000000\n",
            "mean          0.505188\n",
            "std           0.042131\n",
            "min           0.160939\n",
            "1%            0.500000\n",
            "5%            0.500000\n",
            "25%           0.500000\n",
            "50%           0.500000\n",
            "75%           0.500000\n",
            "95%           0.500000\n",
            "99%           0.739028\n",
            "max           1.000000\n",
            "Name: propensity_score, dtype: float64\n"
          ]
        }
      ]
    },
    {
      "cell_type": "code",
      "source": [
        "# Plot distributions\n",
        "plt.figure(figsize=(8,5))\n",
        "plt.hist(dfc.loc[dfc[\"treatment\"]==1, \"propensity_score\"], bins=50, alpha=0.5, label=\"Treated (Auto-renew=1)\")\n",
        "plt.hist(dfc.loc[dfc[\"treatment\"]==0, \"propensity_score\"], bins=50, alpha=0.5, label=\"Control (Auto-renew=0)\")\n",
        "plt.xlabel(\"Propensity Score\")\n",
        "plt.ylabel(\"Count\")\n",
        "plt.legend()\n",
        "plt.title(\"Propensity Score Overlap\")\n",
        "plt.show()"
      ],
      "metadata": {
        "colab": {
          "base_uri": "https://localhost:8080/",
          "height": 487
        },
        "id": "lot4cycA5oXC",
        "outputId": "6275dcfa-f103-4a1b-e24c-2e57710b6ab6"
      },
      "execution_count": 14,
      "outputs": [
        {
          "output_type": "display_data",
          "data": {
            "text/plain": [
              "<Figure size 800x500 with 1 Axes>"
            ],
            "image/png": "[encoded data removed]"
          },
          "metadata": {}
        }
      ]
    },
    {
      "cell_type": "markdown",
      "source": [
        "\n",
        "\n",
        "We estimated propensity scores using a logistic regression model with user demographics, engagement, and transaction history as confounders.\n",
        "\n",
        "**Findings:**\n",
        "- The distribution of propensity scores was almost entirely concentrated at **0.5**.\n",
        "- Summary statistics showed very little variation (std ~0.04).\n",
        "- The overlap plot confirmed a huge spike at 0.5, with almost no spread across the 0–1 range.\n",
        "\n",
        "**Interpretation:**\n",
        "- Logistic regression essentially predicted a 50/50 chance of treatment for nearly all users.\n",
        "- This means the model failed to capture the assignment mechanism of auto-renew from the confounders.\n",
        "- With such flat scores, treated and control groups cannot be meaningfully balanced using matching or weighting.\n",
        "\n",
        "**Next Steps:**\n",
        "- Check class balance: how many users are in the treatment vs control groups?\n",
        "- Try feature scaling (large numeric ranges may have swamped logistic regression).\n",
        "- Explore more flexible models (Random Forest, Gradient Boosting) for estimating propensity scores.\n"
      ],
      "metadata": {
        "id": "y4xmUZCzCvP1"
      }
    },
    {
      "cell_type": "markdown",
      "source": [
        "#### Check treatment balance"
      ],
      "metadata": {
        "id": "WX97mM6gDTEE"
      }
    },
    {
      "cell_type": "code",
      "source": [
        "dfc[\"treatment\"].value_counts(normalize=True)"
      ],
      "metadata": {
        "colab": {
          "base_uri": "https://localhost:8080/",
          "height": 178
        },
        "id": "NzQUbd9dlmcs",
        "outputId": "1e0dc38c-4bb8-4e45-e36b-3df9d284e14b"
      },
      "execution_count": 15,
      "outputs": [
        {
          "output_type": "execute_result",
          "data": {
            "text/plain": [
              "treatment\n",
              "1    0.901845\n",
              "0    0.098155\n",
              "Name: proportion, dtype: float64"
            ],
            "text/html": [
              "<div>\n",
              "<style scoped>\n",
              "    .dataframe tbody tr th:only-of-type {\n",
              "        vertical-align: middle;\n",
              "    }\n",
              "\n",
              "    .dataframe tbody tr th {\n",
              "        vertical-align: top;\n",
              "    }\n",
              "\n",
              "    .dataframe thead th {\n",
              "        text-align: right;\n",
              "    }\n",
              "</style>\n",
              "<table border=\"1\" class=\"dataframe\">\n",
              "  <thead>\n",
              "    <tr style=\"text-align: right;\">\n",
              "      <th></th>\n",
              "      <th>proportion</th>\n",
              "    </tr>\n",
              "    <tr>\n",
              "      <th>treatment</th>\n",
              "      <th></th>\n",
              "    </tr>\n",
              "  </thead>\n",
              "  <tbody>\n",
              "    <tr>\n",
              "      <th>1</th>\n",
              "      <td>0.901845</td>\n",
              "    </tr>\n",
              "    <tr>\n",
              "      <th>0</th>\n",
              "      <td>0.098155</td>\n",
              "    </tr>\n",
              "  </tbody>\n",
              "</table>\n",
              "</div><br><label><b>dtype:</b> float64</label>"
            ]
          },
          "metadata": {},
          "execution_count": 15
        }
      ]
    },
    {
      "cell_type": "markdown",
      "source": [
        "#### Propensity Score Estimation (Random Forest)"
      ],
      "metadata": {
        "id": "Hp3vdHO5EwhU"
      }
    },
    {
      "cell_type": "markdown",
      "source": [
        "**Why Switch from Logistic Regression to Random Forest?**\n",
        "\n",
        "We first tried estimating propensity scores with logistic regression.  \n",
        "However, the results showed almost no variation: nearly all users were assigned a 0.5 probability of being in the treatment group.  \n",
        "\n",
        "**Why did this happen?**\n",
        "- The dataset is **heavily imbalanced** (90% of users are on auto-renew).\n",
        "- Logistic regression is a **linear model**, and large, unscaled numeric features (like `total_secs_sum`) may have swamped it.\n",
        "- As a result, the model collapsed to predicting \"everyone has ~50% chance\" of being treated.\n",
        "\n",
        "**Why Random Forest instead?**\n",
        "- Random Forests can handle **non-linear relationships** and **feature interactions** without requiring scaling.\n",
        "- They are more robust to class imbalance (especially with `class_weight=\"balanced\"`).\n",
        "- They provide more realistic spread in propensity scores, improving overlap between treated and control groups.\n",
        "\n",
        "**Key takeaway:**  \n",
        "We use logistic regression when we want simplicity and interpretability, but in this case, a more flexible model (Random Forest) is necessary to capture the assignment mechanism of auto-renew and create balanced groups for causal inference.\n"
      ],
      "metadata": {
        "id": "YmMvQHpXEfJc"
      }
    },
    {
      "cell_type": "code",
      "source": [
        "# Fit Random Forest for propensity scores\n",
        "rf = RandomForestClassifier(\n",
        "    n_estimators=300,\n",
        "    class_weight=\"balanced\",\n",
        "    random_state=42,\n",
        "    n_jobs=-1\n",
        ")\n",
        "rf.fit(X, dfc[\"treatment\"])\n",
        "\n",
        "# Save predicted propensity scores\n",
        "dfc[\"propensity_score_rf\"] = rf.predict_proba(X)[:,1]\n",
        "\n",
        "# Check distribution\n",
        "print(dfc[\"propensity_score_rf\"].describe(percentiles=[.01,.05,.25,.5,.75,.95,.99]))"
      ],
      "metadata": {
        "id": "_xukFI0wFAeF",
        "colab": {
          "base_uri": "https://localhost:8080/"
        },
        "outputId": "b4953bc7-e2ef-4f80-c9bc-4963b444355a"
      },
      "execution_count": 16,
      "outputs": [
        {
          "output_type": "stream",
          "name": "stdout",
          "text": [
            "count    992931.000000\n",
            "mean          0.902577\n",
            "std           0.273187\n",
            "min           0.000000\n",
            "1%            0.013333\n",
            "5%            0.060000\n",
            "25%           0.996667\n",
            "50%           1.000000\n",
            "75%           1.000000\n",
            "95%           1.000000\n",
            "99%           1.000000\n",
            "max           1.000000\n",
            "Name: propensity_score_rf, dtype: float64\n"
          ]
        }
      ]
    },
    {
      "cell_type": "code",
      "source": [
        "# Plot overlap between treated and control\n",
        "plt.figure(figsize=(8,5))\n",
        "plt.hist(dfc.loc[dfc[\"treatment\"]==1, \"propensity_score_rf\"], bins=50, alpha=0.5, label=\"Treated\")\n",
        "plt.hist(dfc.loc[dfc[\"treatment\"]==0, \"propensity_score_rf\"], bins=50, alpha=0.5, label=\"Control\")\n",
        "plt.xlabel(\"Propensity Score (RF)\")\n",
        "plt.ylabel(\"Count\")\n",
        "plt.legend()\n",
        "plt.title(\"Propensity Score Overlap (Random Forest)\")\n",
        "plt.show()"
      ],
      "metadata": {
        "id": "jyKQvDQ7DdE-",
        "colab": {
          "base_uri": "https://localhost:8080/",
          "height": 487
        },
        "outputId": "df0212c9-6526-4c95-d558-97ad64ce24e0"
      },
      "execution_count": 17,
      "outputs": [
        {
          "output_type": "display_data",
          "data": {
            "text/plain": [
              "<Figure size 800x500 with 1 Axes>"
            ],
            "image/png": "[encoded data removed]"
          },
          "metadata": {}
        }
      ]
    },
    {
      "cell_type": "markdown",
      "source": [
        "### Summary: Challenges with Auto-Renewal as Treatment\n",
        "\n",
        "Our goal was to estimate the causal effect of **auto-renewal** on **churn**.  \n",
        "However, the analysis of propensity scores revealed important issues:\n",
        "\n",
        "- **Naive difference**: Auto-renew users churn ~29 percentage points less than non-auto-renew users.\n",
        "- **Propensity scores (logistic regression)**: Collapsed around 0.5, providing no useful separation.\n",
        "- **Propensity scores (Random Forest)**: Almost perfectly separated treated (≈1.0) and control (≈0.0) users.\n",
        "- **Overlap**: Very little to none — we could not find “comparable” users who differ only in auto-renewal status.\n",
        "\n",
        "### Interpretation\n",
        "\n",
        "- Auto-renewal is **highly predictable** from user engagement and transaction patterns.  \n",
        "- This suggests auto-renewal is **not independent**: it is itself influenced by the same factors that drive churn.  \n",
        "- Without common support, causal inference breaks down: we cannot reliably answer *“What would churn look like if the same user were flipped from auto-renewal=0 to auto-renewal=1?”*\n",
        "\n",
        "### Implication\n",
        "\n",
        "- The large churn gap is unlikely to be a pure causal effect of auto-renewal.  \n",
        "- Instead, **auto-renew acts as a proxy for highly engaged, stable users**.  \n",
        "- Any causal estimates we derive here would be biased by the lack of overlap.\n"
      ],
      "metadata": {
        "id": "DQa_sLpwOewo"
      }
    },
    {
      "cell_type": "markdown",
      "source": [
        "### Business Takeaway\n",
        "\n",
        "- **Observation:** Users with auto-renew enabled churn far less (3% vs 32%).  \n",
        "- **Reality:** This difference does **not mean auto-renew directly causes retention**.  \n",
        "- **Why:** Auto-renewal is strongly tied to underlying user behavior. Highly engaged, stable users are the ones most likely to enable auto-renew in the first place.  \n",
        "\n",
        "**Implication for KKBox:**  \n",
        "- Auto-renew is best seen as a **signal of loyal, engaged users**, not the mechanism creating loyalty.  \n",
        "- To truly reduce churn, the focus should be on **driving engagement and satisfaction** (listening time, completed tracks, consistent usage), which in turn lead users to adopt auto-renew.  \n",
        "- If the company wants to test the *direct* effect of auto-renew, a controlled experiment (e.g., auto-enabling for a random cohort) would be required.\n"
      ],
      "metadata": {
        "id": "Fa-SMLBtPBK_"
      }
    },
    {
      "cell_type": "markdown",
      "source": [
        "## Switching to an actionable lever"
      ],
      "metadata": {
        "id": "RmB_8O42mA3s"
      }
    },
    {
      "cell_type": "markdown",
      "source": [
        "Auto-renew isn’t a clean lever in our data (no overlap), so we should pivot."
      ],
      "metadata": {
        "id": "pd_vs8idmDfn"
      }
    },
    {
      "cell_type": "markdown",
      "source": [
        "### Why We Can’t Switch to an Actionable Lever in This Dataset\n",
        "\n",
        "In causal inference, the best \"treatments\" are **actions that the company can control** — things like sending a renewal reminder, giving a discount, or extending a free trial.  \n",
        "These are **policy levers**: interventions that product teams can actually turn on or off.\n",
        "\n",
        "**Our challenge:**  \n",
        "- The KKBox dataset we have does not include any such exposure or policy variables.  \n",
        "- All our features are either **user behaviors** (listens, days active, transactions, cancellations) or **demographics** (city, gender, registration info).  \n",
        "- The one feature that looks like a lever — `auto_renew_rate` — turns out not to be an independent action, but rather a **consequence of those behaviors**.  \n",
        "  - Engaged, stable users almost always enable auto-renew.  \n",
        "  - Disengaged users almost never do.  \n",
        "\n",
        "**The problem this creates:**  \n",
        "- Auto-renew is nearly deterministic given the other features.  \n",
        "- That means there are **no comparable users** who look the same in every way but differ only in auto-renew status.  \n",
        "- Without overlap, we cannot make a clean causal claim like:  \n",
        "  *“If we flipped a user from auto-renew=0 to auto-renew=1, here’s what churn would do.”*\n",
        "\n",
        "**Implication:**  \n",
        "- With this dataset, auto-renew is better interpreted as a **signal of engagement** (a proxy for loyal users) rather than a **causal lever** that drives churn by itself.  \n",
        "- To study true interventions, we would need data on **company actions** (e.g., who got discounts, reminders, or nudges).  \n"
      ],
      "metadata": {
        "id": "slupbd-GqjVR"
      }
    },
    {
      "cell_type": "code",
      "source": [
        "# create a directed graph\n",
        "G = nx.DiGraph()\n",
        "\n",
        "# add nodes\n",
        "G.add_nodes_from([\n",
        "    \"Demographics\",\n",
        "    \"Engagement\",\n",
        "    \"Payment History\",\n",
        "    \"Auto-renew\",\n",
        "    \"Churn\"\n",
        "])\n",
        "\n",
        "# add edges (causal assumptions)\n",
        "edges = [\n",
        "    (\"Demographics\", \"Engagement\"),\n",
        "    (\"Engagement\", \"Auto-renew\"),\n",
        "    (\"Engagement\", \"Churn\"),\n",
        "    (\"Payment History\", \"Auto-renew\"),\n",
        "    (\"Payment History\", \"Churn\"),\n",
        "    (\"Auto-renew\", \"Churn\")   # the effect we want to isolate\n",
        "]\n",
        "G.add_edges_from(edges)\n",
        "\n",
        "# draw\n",
        "plt.figure(figsize=(6,5))\n",
        "pos = nx.spring_layout(G, seed=42)\n",
        "nx.draw(G, pos, with_labels=True, node_size=2500, node_color=\"lightblue\",\n",
        "        arrowsize=20, font_size=10, font_weight=\"bold\")\n",
        "plt.title(\"Causal DAG: Auto-renew and Churn\", fontsize=12)\n",
        "plt.show()"
      ],
      "metadata": {
        "colab": {
          "base_uri": "https://localhost:8080/",
          "height": 559
        },
        "id": "-hcdYIghmC_l",
        "outputId": "5cc53b7b-fff6-48bb-985b-17e633677dcb"
      },
      "execution_count": 18,
      "outputs": [
        {
          "output_type": "display_data",
          "data": {
            "text/plain": [
              "<Figure size 600x500 with 1 Axes>"
            ],
            "image/png": "[encoded data removed]"
          },
          "metadata": {}
        }
      ]
    },
    {
      "cell_type": "markdown",
      "source": [
        "The DAG and the way we classify features (confounder vs mediator vs proxy) come from domain knowledge + assumptions, not from the data alone."
      ],
      "metadata": {
        "id": "cV0IZ3YXtmTH"
      }
    },
    {
      "cell_type": "markdown",
      "source": [
        "## Local Effect Analysis (Trim + IPW)"
      ],
      "metadata": {
        "id": "_WadYuNkCLtv"
      }
    },
    {
      "cell_type": "markdown",
      "source": [
        "So far, we found that auto-renew is highly predictable from user behavior, leaving almost no overlap between treated (auto-renew=1) and control (auto-renew=0).  \n",
        "Without overlap, causal inference for the entire population is not possible.  \n",
        "\n",
        "**Idea:** Instead of estimating the effect for everyone, we restrict the analysis to the **region of common support** — users whose propensity scores fall in a middle range (e.g., 0.2–0.8).  \n",
        "In this region, treated and control users are more comparable.  \n",
        "\n",
        "**Method:**  \n",
        "1. Estimate propensity scores using a reduced set of confounders (demographics + engagement).  \n",
        "2. **Trim** users outside the overlap region.  \n",
        "3. Apply **Inverse Probability Weighting (IPW)** to estimate the causal effect of auto-renew on churn within this subgroup.  \n",
        "\n",
        "**Result:** This gives us a **local Average Treatment Effect (ATE)**, which should be interpreted carefully:  \n",
        "- It applies only to users in the overlap region.  \n",
        "- It does not generalize to the entire KKBox user base.  \n",
        "\n",
        "This approach allows us to salvage some causal insight, even though global overlap is poor.\n"
      ],
      "metadata": {
        "id": "F8AdInieDEtx"
      }
    },
    {
      "cell_type": "code",
      "source": [
        "# Define confounders (safe set)\n",
        "confounders = [\"city\",\"gender\",\"registered_via\",\"reg_year\",\"reg_month\",\n",
        "               \"active_days\",\"total_listens\",\"complete_listens\",\n",
        "               \"avg_unique_songs_per_day\",\"completion_ratio\"]\n",
        "\n",
        "X_adj = pd.get_dummies(dfc[confounders], drop_first=True)\n",
        "y_treat = dfc[\"treatment\"]\n",
        "y_outcome = dfc[\"is_churn\"]\n",
        "\n",
        "# Scale features (keep sparse-friendly option for get_dummies)\n",
        "scaler = StandardScaler(with_mean=False)\n",
        "X_scaled = scaler.fit_transform(X_adj)\n",
        "\n",
        "# Logistic regression propensity model\n",
        "logit = LogisticRegression(max_iter=5000, solver=\"saga\")  # saga works well with scaled, sparse data\n",
        "logit.fit(X_scaled, y_treat)\n",
        "ps = logit.predict_proba(X_scaled)[:,1]\n",
        "\n",
        "# Trim to common support (0.2–0.8)\n",
        "mask = (ps >= 0.2) & (ps <= 0.8)\n",
        "df_trim = dfc.loc[mask].copy()\n",
        "ps_trim = ps[mask]\n",
        "t_trim = y_treat[mask]\n",
        "y_trim = y_outcome[mask]\n",
        "\n",
        "# Inverse Probability Weights\n",
        "weights = np.where(t_trim==1, 1/ps_trim, 1/(1-ps_trim))\n",
        "\n",
        "# Weighted ATE estimate\n",
        "ate = (np.average(y_trim[t_trim==1], weights=weights[t_trim==1])\n",
        "       - np.average(y_trim[t_trim==0], weights=weights[t_trim==0]))\n",
        "print(\"Local ATE (trimmed, IPW):\", ate)"
      ],
      "metadata": {
        "colab": {
          "base_uri": "https://localhost:8080/"
        },
        "id": "h7DX5S1YJrKW",
        "outputId": "1c517b7a-c0b2-4897-a448-cdb39dee92fc"
      },
      "execution_count": 19,
      "outputs": [
        {
          "output_type": "stream",
          "name": "stdout",
          "text": [
            "Local ATE (trimmed, IPW): -0.26044921409913474\n"
          ]
        }
      ]
    },
    {
      "cell_type": "markdown",
      "source": [
        "### Local Effect Result\n",
        "\n",
        "After trimming to the overlap region (users with propensity scores between 0.2 and 0.8),  \n",
        "we estimated the causal effect of auto-renewal on churn using Inverse Probability Weighting (IPW).\n",
        "\n",
        "**Result:**  \n",
        "- Local ATE (IPW, trimmed): **–0.26**  \n",
        "- Interpretation: Within the overlap region, auto-renewal is associated with a **26 percentage point reduction in churn**.  \n",
        "- The negative sign means that churn probability decreases for users on auto-renew, compared to similar users not on auto-renew.  \n",
        "\n",
        "**Important caveats:**  \n",
        "- This is a **local effect**, not a global one — it only applies to users where treated and control groups are comparable (propensity 0.2–0.8).  \n",
        "- Outside this region, treated and control users are too different to support valid comparisons.  \n",
        "- Next steps should include using **stabilized weights** and performing a **covariate balance check** (e.g., standardized mean differences) to ensure that weighting truly balances confounders.\n"
      ],
      "metadata": {
        "id": "h-cFi6LcPFNk"
      }
    },
    {
      "cell_type": "markdown",
      "source": [
        "Let’s extend our local effect analysis with stabilized weights and a balance check (SMDs before vs after weighting). This makes the estimate more robust and interpretable."
      ],
      "metadata": {
        "id": "g3M_HjNjPfvf"
      }
    },
    {
      "cell_type": "code",
      "source": [
        "# --- Stabilized weights ---\n",
        "p_t = t_trim.mean()  # marginal treatment probability in trimmed sample\n",
        "w_stab = np.where(t_trim==1, p_t/ps_trim, (1-p_t)/(1-ps_trim))\n",
        "\n",
        "# Stabilized ATE\n",
        "ate_stab = (np.average(y_trim[t_trim==1], weights=w_stab[t_trim==1])\n",
        "            - np.average(y_trim[t_trim==0], weights=w_stab[t_trim==0]))\n",
        "print(f\"Local ATE (IPW, stabilized, trimmed): {ate_stab:.4f}\")"
      ],
      "metadata": {
        "colab": {
          "base_uri": "https://localhost:8080/"
        },
        "id": "0KEVCwP6Pkoz",
        "outputId": "79ed97c5-0344-4443-a0c9-7058013fe273"
      },
      "execution_count": 21,
      "outputs": [
        {
          "output_type": "stream",
          "name": "stdout",
          "text": [
            "Local ATE (IPW, stabilized, trimmed): -0.2604\n"
          ]
        }
      ]
    },
    {
      "cell_type": "markdown",
      "source": [
        "Stabilized weighting gave you essentially the same estimate (–0.2604), which means our result is robust and not overly driven by extreme weights"
      ],
      "metadata": {
        "id": "52auvKs8P9Wn"
      }
    },
    {
      "cell_type": "code",
      "source": [
        "# --- Balance check (Standardized Mean Differences) ---\n",
        "def smd_unweighted(a, b):\n",
        "    return (a.mean()-b.mean())/np.sqrt((a.var(ddof=1)+b.var(ddof=1))/2)\n",
        "\n",
        "def smd_weighted(x, t, w):\n",
        "    a, wa = x[t==1], w[t==1]\n",
        "    b, wb = x[t==0], w[t==0]\n",
        "    ma = np.average(a, weights=wa); mb = np.average(b, weights=wb)\n",
        "    va = np.average((a-ma)**2, weights=wa); vb = np.average((b-mb)**2, weights=wb)\n",
        "    return (ma-mb)/np.sqrt((va+vb)/2)\n",
        "\n",
        "# matrix of confounders used\n",
        "X_trim = X_adj.loc[mask].to_numpy()\n",
        "feature_names = X_adj.columns\n",
        "\n",
        "smds_before = []\n",
        "smds_after  = []\n",
        "for j, name in enumerate(feature_names):\n",
        "    xj = X_trim[:, j]\n",
        "    smds_before.append((name, abs(smd_unweighted(xj[t_trim==1], xj[t_trim==0]))))\n",
        "    smds_after.append((name, abs(smd_weighted(xj, t_trim, w_stab))))\n",
        "\n",
        "balance_df = pd.DataFrame({\n",
        "    \"feature\": feature_names,\n",
        "    \"|SMD|_before\": [v for _, v in smds_before],\n",
        "    \"|SMD|_after\": [v for _, v in smds_after]\n",
        "})\n",
        "\n",
        "print(\"\\nTop imbalanced features before weighting:\")\n",
        "display(balance_df.sort_values(\"|SMD|_before\", ascending=False).head(10))\n",
        "\n",
        "print(\"\\nTop imbalanced features after weighting:\")\n",
        "display(balance_df.sort_values(\"|SMD|_after\", ascending=False).head(10))"
      ],
      "metadata": {
        "colab": {
          "base_uri": "https://localhost:8080/",
          "height": 778
        },
        "id": "Mkeqze1DPuKR",
        "outputId": "cd7676fe-01d3-4846-943e-78e8d96bc028"
      },
      "execution_count": 22,
      "outputs": [
        {
          "output_type": "stream",
          "name": "stdout",
          "text": [
            "\n",
            "Top imbalanced features before weighting:\n"
          ]
        },
        {
          "output_type": "display_data",
          "data": {
            "text/plain": [
              "                     feature  |SMD|_before  |SMD|_after\n",
              "2                   reg_year      0.366314     0.315336\n",
              "4                active_days      0.322102     0.217346\n",
              "6           complete_listens      0.257167     0.220927\n",
              "5              total_listens      0.237595     0.226449\n",
              "1             registered_via      0.231846     0.163970\n",
              "0                       city      0.227311     0.217125\n",
              "8           completion_ratio      0.221206     0.139871\n",
              "7   avg_unique_songs_per_day      0.095317     0.218553\n",
              "10            gender_unknown      0.071046     0.140037\n",
              "3                  reg_month      0.045934     0.034132"
            ],
            "text/html": [
              "\n",
              "  <div id=\"df-f1808212-5d4e-4766-bc4a-e207f730abfb\" class=\"colab-df-container\">\n",
              "    <div>\n",
              "<style scoped>\n",
              "    .dataframe tbody tr th:only-of-type {\n",
              "        vertical-align: middle;\n",
              "    }\n",
              "\n",
              "    .dataframe tbody tr th {\n",
              "        vertical-align: top;\n",
              "    }\n",
              "\n",
              "    .dataframe thead th {\n",
              "        text-align: right;\n",
              "    }\n",
              "</style>\n",
              "<table border=\"1\" class=\"dataframe\">\n",
              "  <thead>\n",
              "    <tr style=\"text-align: right;\">\n",
              "      <th></th>\n",
              "      <th>feature</th>\n",
              "      <th>|SMD|_before</th>\n",
              "      <th>|SMD|_after</th>\n",
              "    </tr>\n",
              "  </thead>\n",
              "  <tbody>\n",
              "    <tr>\n",
              "      <th>2</th>\n",
              "      <td>reg_year</td>\n",
              "      <td>0.366314</td>\n",
              "      <td>0.315336</td>\n",
              "    </tr>\n",
              "    <tr>\n",
              "      <th>4</th>\n",
              "      <td>active_days</td>\n",
              "      <td>0.322102</td>\n",
              "      <td>0.217346</td>\n",
              "    </tr>\n",
              "    <tr>\n",
              "      <th>6</th>\n",
              "      <td>complete_listens</td>\n",
              "      <td>0.257167</td>\n",
              "      <td>0.220927</td>\n",
              "    </tr>\n",
              "    <tr>\n",
              "      <th>5</th>\n",
              "      <td>total_listens</td>\n",
              "      <td>0.237595</td>\n",
              "      <td>0.226449</td>\n",
              "    </tr>\n",
              "    <tr>\n",
              "      <th>1</th>\n",
              "      <td>registered_via</td>\n",
              "      <td>0.231846</td>\n",
              "      <td>0.163970</td>\n",
              "    </tr>\n",
              "    <tr>\n",
              "      <th>0</th>\n",
              "      <td>city</td>\n",
              "      <td>0.227311</td>\n",
              "      <td>0.217125</td>\n",
              "    </tr>\n",
              "    <tr>\n",
              "      <th>8</th>\n",
              "      <td>completion_ratio</td>\n",
              "      <td>0.221206</td>\n",
              "      <td>0.139871</td>\n",
              "    </tr>\n",
              "    <tr>\n",
              "      <th>7</th>\n",
              "      <td>avg_unique_songs_per_day</td>\n",
              "      <td>0.095317</td>\n",
              "      <td>0.218553</td>\n",
              "    </tr>\n",
              "    <tr>\n",
              "      <th>10</th>\n",
              "      <td>gender_unknown</td>\n",
              "      <td>0.071046</td>\n",
              "      <td>0.140037</td>\n",
              "    </tr>\n",
              "    <tr>\n",
              "      <th>3</th>\n",
              "      <td>reg_month</td>\n",
              "      <td>0.045934</td>\n",
              "      <td>0.034132</td>\n",
              "    </tr>\n",
              "  </tbody>\n",
              "</table>\n",
              "</div>\n",
              "    <div class=\"colab-df-buttons\">\n",
              "\n",
              "  <div class=\"colab-df-container\">\n",
              "    <button class=\"colab-df-convert\" onclick=\"convertToInteractive('df-f1808212-5d4e-4766-bc4a-e207f730abfb')\"\n",
              "            title=\"Convert this dataframe to an interactive table.\"\n",
              "            style=\"display:none;\">\n",
              "\n",
              "  <svg xmlns=\"http://www.w3.org/2000/svg\" height=\"24px\" viewBox=\"0 -960 960 960\">\n",
              "    <path d=\"M120-120v-720h720v720H120Zm60-500h600v-160H180v160Zm220 220h160v-160H400v160Zm0 220h160v-160H400v160ZM180-400h160v-160H180v160Zm440 0h160v-160H620v160ZM180-180h160v-160H180v160Zm440 0h160v-160H620v160Z\"/>\n",
              "  </svg>\n",
              "    </button>\n",
              "\n",
              "  <style>\n",
              "    .colab-df-container {\n",
              "      display:flex;\n",
              "      gap: 12px;\n",
              "    }\n",
              "\n",
              "    .colab-df-convert {\n",
              "      background-color: #E8F0FE;\n",
              "      border: none;\n",
              "      border-radius: 50%;\n",
              "      cursor: pointer;\n",
              "      display: none;\n",
              "      fill: #1967D2;\n",
              "      height: 32px;\n",
              "      padding: 0 0 0 0;\n",
              "      width: 32px;\n",
              "    }\n",
              "\n",
              "    .colab-df-convert:hover {\n",
              "      background-color: #E2EBFA;\n",
              "      box-shadow: 0px 1px 2px rgba(60, 64, 67, 0.3), 0px 1px 3px 1px rgba(60, 64, 67, 0.15);\n",
              "      fill: #174EA6;\n",
              "    }\n",
              "\n",
              "    .colab-df-buttons div {\n",
              "      margin-bottom: 4px;\n",
              "    }\n",
              "\n",
              "    [theme=dark] .colab-df-convert {\n",
              "      background-color: #3B4455;\n",
              "      fill: #D2E3FC;\n",
              "    }\n",
              "\n",
              "    [theme=dark] .colab-df-convert:hover {\n",
              "      background-color: #434B5C;\n",
              "      box-shadow: 0px 1px 3px 1px rgba(0, 0, 0, 0.15);\n",
              "      filter: drop-shadow(0px 1px 2px rgba(0, 0, 0, 0.3));\n",
              "      fill: #FFFFFF;\n",
              "    }\n",
              "  </style>\n",
              "\n",
              "    <script>\n",
              "      const buttonEl =\n",
              "        document.querySelector('#df-f1808212-5d4e-4766-bc4a-e207f730abfb button.colab-df-convert');\n",
              "      buttonEl.style.display =\n",
              "        google.colab.kernel.accessAllowed ? 'block' : 'none';\n",
              "\n",
              "      async function convertToInteractive(key) {\n",
              "        const element = document.querySelector('#df-f1808212-5d4e-4766-bc4a-e207f730abfb');\n",
              "        const dataTable =\n",
              "          await google.colab.kernel.invokeFunction('convertToInteractive',\n",
              "                                                    [key], {});\n",
              "        if (!dataTable) return;\n",
              "\n",
              "        const docLinkHtml = 'Like what you see? Visit the ' +\n",
              "          '<a target=\"_blank\" href=https://colab.research.google.com/notebooks/data_table.ipynb>data table notebook</a>'\n",
              "          + ' to learn more about interactive tables.';\n",
              "        element.innerHTML = '';\n",
              "        dataTable['output_type'] = 'display_data';\n",
              "        await google.colab.output.renderOutput(dataTable, element);\n",
              "        const docLink = document.createElement('div');\n",
              "        docLink.innerHTML = docLinkHtml;\n",
              "        element.appendChild(docLink);\n",
              "      }\n",
              "    </script>\n",
              "  </div>\n",
              "\n",
              "\n",
              "    <div id=\"df-b15de96f-e33e-4868-9054-c9b2bff3e2f6\">\n",
              "      <button class=\"colab-df-quickchart\" onclick=\"quickchart('df-b15de96f-e33e-4868-9054-c9b2bff3e2f6')\"\n",
              "                title=\"Suggest charts\"\n",
              "                style=\"display:none;\">\n",
              "\n",
              "<svg xmlns=\"http://www.w3.org/2000/svg\" height=\"24px\"viewBox=\"0 0 24 24\"\n",
              "     width=\"24px\">\n",
              "    <g>\n",
              "        <path d=\"M19 3H5c-1.1 0-2 .9-2 2v14c0 1.1.9 2 2 2h14c1.1 0 2-.9 2-2V5c0-1.1-.9-2-2-2zM9 17H7v-7h2v7zm4 0h-2V7h2v10zm4 0h-2v-4h2v4z\"/>\n",
              "    </g>\n",
              "</svg>\n",
              "      </button>\n",
              "\n",
              "<style>\n",
              "  .colab-df-quickchart {\n",
              "      --bg-color: #E8F0FE;\n",
              "      --fill-color: #1967D2;\n",
              "      --hover-bg-color: #E2EBFA;\n",
              "      --hover-fill-color: #174EA6;\n",
              "      --disabled-fill-color: #AAA;\n",
              "      --disabled-bg-color: #DDD;\n",
              "  }\n",
              "\n",
              "  [theme=dark] .colab-df-quickchart {\n",
              "      --bg-color: #3B4455;\n",
              "      --fill-color: #D2E3FC;\n",
              "      --hover-bg-color: #434B5C;\n",
              "      --hover-fill-color: #FFFFFF;\n",
              "      --disabled-bg-color: #3B4455;\n",
              "      --disabled-fill-color: #666;\n",
              "  }\n",
              "\n",
              "  .colab-df-quickchart {\n",
              "    background-color: var(--bg-color);\n",
              "    border: none;\n",
              "    border-radius: 50%;\n",
              "    cursor: pointer;\n",
              "    display: none;\n",
              "    fill: var(--fill-color);\n",
              "    height: 32px;\n",
              "    padding: 0;\n",
              "    width: 32px;\n",
              "  }\n",
              "\n",
              "  .colab-df-quickchart:hover {\n",
              "    background-color: var(--hover-bg-color);\n",
              "    box-shadow: 0 1px 2px rgba(60, 64, 67, 0.3), 0 1px 3px 1px rgba(60, 64, 67, 0.15);\n",
              "    fill: var(--button-hover-fill-color);\n",
              "  }\n",
              "\n",
              "  .colab-df-quickchart-complete:disabled,\n",
              "  .colab-df-quickchart-complete:disabled:hover {\n",
              "    background-color: var(--disabled-bg-color);\n",
              "    fill: var(--disabled-fill-color);\n",
              "    box-shadow: none;\n",
              "  }\n",
              "\n",
              "  .colab-df-spinner {\n",
              "    border: 2px solid var(--fill-color);\n",
              "    border-color: transparent;\n",
              "    border-bottom-color: var(--fill-color);\n",
              "    animation:\n",
              "      spin 1s steps(1) infinite;\n",
              "  }\n",
              "\n",
              "  @keyframes spin {\n",
              "    0% {\n",
              "      border-color: transparent;\n",
              "      border-bottom-color: var(--fill-color);\n",
              "      border-left-color: var(--fill-color);\n",
              "    }\n",
              "    20% {\n",
              "      border-color: transparent;\n",
              "      border-left-color: var(--fill-color);\n",
              "      border-top-color: var(--fill-color);\n",
              "    }\n",
              "    30% {\n",
              "      border-color: transparent;\n",
              "      border-left-color: var(--fill-color);\n",
              "      border-top-color: var(--fill-color);\n",
              "      border-right-color: var(--fill-color);\n",
              "    }\n",
              "    40% {\n",
              "      border-color: transparent;\n",
              "      border-right-color: var(--fill-color);\n",
              "      border-top-color: var(--fill-color);\n",
              "    }\n",
              "    60% {\n",
              "      border-color: transparent;\n",
              "      border-right-color: var(--fill-color);\n",
              "    }\n",
              "    80% {\n",
              "      border-color: transparent;\n",
              "      border-right-color: var(--fill-color);\n",
              "      border-bottom-color: var(--fill-color);\n",
              "    }\n",
              "    90% {\n",
              "      border-color: transparent;\n",
              "      border-bottom-color: var(--fill-color);\n",
              "    }\n",
              "  }\n",
              "</style>\n",
              "\n",
              "      <script>\n",
              "        async function quickchart(key) {\n",
              "          const quickchartButtonEl =\n",
              "            document.querySelector('#' + key + ' button');\n",
              "          quickchartButtonEl.disabled = true;  // To prevent multiple clicks.\n",
              "          quickchartButtonEl.classList.add('colab-df-spinner');\n",
              "          try {\n",
              "            const charts = await google.colab.kernel.invokeFunction(\n",
              "                'suggestCharts', [key], {});\n",
              "          } catch (error) {\n",
              "            console.error('Error during call to suggestCharts:', error);\n",
              "          }\n",
              "          quickchartButtonEl.classList.remove('colab-df-spinner');\n",
              "          quickchartButtonEl.classList.add('colab-df-quickchart-complete');\n",
              "        }\n",
              "        (() => {\n",
              "          let quickchartButtonEl =\n",
              "            document.querySelector('#df-b15de96f-e33e-4868-9054-c9b2bff3e2f6 button');\n",
              "          quickchartButtonEl.style.display =\n",
              "            google.colab.kernel.accessAllowed ? 'block' : 'none';\n",
              "        })();\n",
              "      </script>\n",
              "    </div>\n",
              "\n",
              "    </div>\n",
              "  </div>\n"
            ],
            "application/vnd.google.colaboratory.intrinsic+json": {
              "type": "dataframe",
              "summary": "{\n  \"name\": \"display(balance_df\",\n  \"rows\": 10,\n  \"fields\": [\n    {\n      \"column\": \"feature\",\n      \"properties\": {\n        \"dtype\": \"string\",\n        \"num_unique_values\": 10,\n        \"samples\": [\n          \"gender_unknown\",\n          \"active_days\",\n          \"city\"\n        ],\n        \"semantic_type\": \"\",\n        \"description\": \"\"\n      }\n    },\n    {\n      \"column\": \"|SMD|_before\",\n      \"properties\": {\n        \"dtype\": \"number\",\n        \"std\": 0.10551961374573328,\n        \"min\": 0.04593405678108713,\n        \"max\": 0.3663143661095017,\n        \"num_unique_values\": 10,\n        \"samples\": [\n          0.07104597456771265,\n          0.3221020697103141,\n          0.2273110914305464\n        ],\n        \"semantic_type\": \"\",\n        \"description\": \"\"\n      }\n    },\n    {\n      \"column\": \"|SMD|_after\",\n      \"properties\": {\n        \"dtype\": \"number\",\n        \"std\": 0.07473715696944483,\n        \"min\": 0.03413169963490003,\n        \"max\": 0.31533619083260445,\n        \"num_unique_values\": 10,\n        \"samples\": [\n          0.14003724882399907,\n          0.21734569184631228,\n          0.21712547897350934\n        ],\n        \"semantic_type\": \"\",\n        \"description\": \"\"\n      }\n    }\n  ]\n}"
            }
          },
          "metadata": {}
        },
        {
          "output_type": "stream",
          "name": "stdout",
          "text": [
            "\n",
            "Top imbalanced features after weighting:\n"
          ]
        },
        {
          "output_type": "display_data",
          "data": {
            "text/plain": [
              "                     feature  |SMD|_before  |SMD|_after\n",
              "2                   reg_year      0.366314     0.315336\n",
              "5              total_listens      0.237595     0.226449\n",
              "6           complete_listens      0.257167     0.220927\n",
              "7   avg_unique_songs_per_day      0.095317     0.218553\n",
              "4                active_days      0.322102     0.217346\n",
              "0                       city      0.227311     0.217125\n",
              "1             registered_via      0.231846     0.163970\n",
              "10            gender_unknown      0.071046     0.140037\n",
              "8           completion_ratio      0.221206     0.139871\n",
              "3                  reg_month      0.045934     0.034132"
            ],
            "text/html": [
              "\n",
              "  <div id=\"df-dfd77a79-ade5-443c-9ab1-eea005ab8641\" class=\"colab-df-container\">\n",
              "    <div>\n",
              "<style scoped>\n",
              "    .dataframe tbody tr th:only-of-type {\n",
              "        vertical-align: middle;\n",
              "    }\n",
              "\n",
              "    .dataframe tbody tr th {\n",
              "        vertical-align: top;\n",
              "    }\n",
              "\n",
              "    .dataframe thead th {\n",
              "        text-align: right;\n",
              "    }\n",
              "</style>\n",
              "<table border=\"1\" class=\"dataframe\">\n",
              "  <thead>\n",
              "    <tr style=\"text-align: right;\">\n",
              "      <th></th>\n",
              "      <th>feature</th>\n",
              "      <th>|SMD|_before</th>\n",
              "      <th>|SMD|_after</th>\n",
              "    </tr>\n",
              "  </thead>\n",
              "  <tbody>\n",
              "    <tr>\n",
              "      <th>2</th>\n",
              "      <td>reg_year</td>\n",
              "      <td>0.366314</td>\n",
              "      <td>0.315336</td>\n",
              "    </tr>\n",
              "    <tr>\n",
              "      <th>5</th>\n",
              "      <td>total_listens</td>\n",
              "      <td>0.237595</td>\n",
              "      <td>0.226449</td>\n",
              "    </tr>\n",
              "    <tr>\n",
              "      <th>6</th>\n",
              "      <td>complete_listens</td>\n",
              "      <td>0.257167</td>\n",
              "      <td>0.220927</td>\n",
              "    </tr>\n",
              "    <tr>\n",
              "      <th>7</th>\n",
              "      <td>avg_unique_songs_per_day</td>\n",
              "      <td>0.095317</td>\n",
              "      <td>0.218553</td>\n",
              "    </tr>\n",
              "    <tr>\n",
              "      <th>4</th>\n",
              "      <td>active_days</td>\n",
              "      <td>0.322102</td>\n",
              "      <td>0.217346</td>\n",
              "    </tr>\n",
              "    <tr>\n",
              "      <th>0</th>\n",
              "      <td>city</td>\n",
              "      <td>0.227311</td>\n",
              "      <td>0.217125</td>\n",
              "    </tr>\n",
              "    <tr>\n",
              "      <th>1</th>\n",
              "      <td>registered_via</td>\n",
              "      <td>0.231846</td>\n",
              "      <td>0.163970</td>\n",
              "    </tr>\n",
              "    <tr>\n",
              "      <th>10</th>\n",
              "      <td>gender_unknown</td>\n",
              "      <td>0.071046</td>\n",
              "      <td>0.140037</td>\n",
              "    </tr>\n",
              "    <tr>\n",
              "      <th>8</th>\n",
              "      <td>completion_ratio</td>\n",
              "      <td>0.221206</td>\n",
              "      <td>0.139871</td>\n",
              "    </tr>\n",
              "    <tr>\n",
              "      <th>3</th>\n",
              "      <td>reg_month</td>\n",
              "      <td>0.045934</td>\n",
              "      <td>0.034132</td>\n",
              "    </tr>\n",
              "  </tbody>\n",
              "</table>\n",
              "</div>\n",
              "    <div class=\"colab-df-buttons\">\n",
              "\n",
              "  <div class=\"colab-df-container\">\n",
              "    <button class=\"colab-df-convert\" onclick=\"convertToInteractive('df-dfd77a79-ade5-443c-9ab1-eea005ab8641')\"\n",
              "            title=\"Convert this dataframe to an interactive table.\"\n",
              "            style=\"display:none;\">\n",
              "\n",
              "  <svg xmlns=\"http://www.w3.org/2000/svg\" height=\"24px\" viewBox=\"0 -960 960 960\">\n",
              "    <path d=\"M120-120v-720h720v720H120Zm60-500h600v-160H180v160Zm220 220h160v-160H400v160Zm0 220h160v-160H400v160ZM180-400h160v-160H180v160Zm440 0h160v-160H620v160ZM180-180h160v-160H180v160Zm440 0h160v-160H620v160Z\"/>\n",
              "  </svg>\n",
              "    </button>\n",
              "\n",
              "  <style>\n",
              "    .colab-df-container {\n",
              "      display:flex;\n",
              "      gap: 12px;\n",
              "    }\n",
              "\n",
              "    .colab-df-convert {\n",
              "      background-color: #E8F0FE;\n",
              "      border: none;\n",
              "      border-radius: 50%;\n",
              "      cursor: pointer;\n",
              "      display: none;\n",
              "      fill: #1967D2;\n",
              "      height: 32px;\n",
              "      padding: 0 0 0 0;\n",
              "      width: 32px;\n",
              "    }\n",
              "\n",
              "    .colab-df-convert:hover {\n",
              "      background-color: #E2EBFA;\n",
              "      box-shadow: 0px 1px 2px rgba(60, 64, 67, 0.3), 0px 1px 3px 1px rgba(60, 64, 67, 0.15);\n",
              "      fill: #174EA6;\n",
              "    }\n",
              "\n",
              "    .colab-df-buttons div {\n",
              "      margin-bottom: 4px;\n",
              "    }\n",
              "\n",
              "    [theme=dark] .colab-df-convert {\n",
              "      background-color: #3B4455;\n",
              "      fill: #D2E3FC;\n",
              "    }\n",
              "\n",
              "    [theme=dark] .colab-df-convert:hover {\n",
              "      background-color: #434B5C;\n",
              "      box-shadow: 0px 1px 3px 1px rgba(0, 0, 0, 0.15);\n",
              "      filter: drop-shadow(0px 1px 2px rgba(0, 0, 0, 0.3));\n",
              "      fill: #FFFFFF;\n",
              "    }\n",
              "  </style>\n",
              "\n",
              "    <script>\n",
              "      const buttonEl =\n",
              "        document.querySelector('#df-dfd77a79-ade5-443c-9ab1-eea005ab8641 button.colab-df-convert');\n",
              "      buttonEl.style.display =\n",
              "        google.colab.kernel.accessAllowed ? 'block' : 'none';\n",
              "\n",
              "      async function convertToInteractive(key) {\n",
              "        const element = document.querySelector('#df-dfd77a79-ade5-443c-9ab1-eea005ab8641');\n",
              "        const dataTable =\n",
              "          await google.colab.kernel.invokeFunction('convertToInteractive',\n",
              "                                                    [key], {});\n",
              "        if (!dataTable) return;\n",
              "\n",
              "        const docLinkHtml = 'Like what you see? Visit the ' +\n",
              "          '<a target=\"_blank\" href=https://colab.research.google.com/notebooks/data_table.ipynb>data table notebook</a>'\n",
              "          + ' to learn more about interactive tables.';\n",
              "        element.innerHTML = '';\n",
              "        dataTable['output_type'] = 'display_data';\n",
              "        await google.colab.output.renderOutput(dataTable, element);\n",
              "        const docLink = document.createElement('div');\n",
              "        docLink.innerHTML = docLinkHtml;\n",
              "        element.appendChild(docLink);\n",
              "      }\n",
              "    </script>\n",
              "  </div>\n",
              "\n",
              "\n",
              "    <div id=\"df-01b2a8ab-8a85-4179-a90a-17196b248970\">\n",
              "      <button class=\"colab-df-quickchart\" onclick=\"quickchart('df-01b2a8ab-8a85-4179-a90a-17196b248970')\"\n",
              "                title=\"Suggest charts\"\n",
              "                style=\"display:none;\">\n",
              "\n",
              "<svg xmlns=\"http://www.w3.org/2000/svg\" height=\"24px\"viewBox=\"0 0 24 24\"\n",
              "     width=\"24px\">\n",
              "    <g>\n",
              "        <path d=\"M19 3H5c-1.1 0-2 .9-2 2v14c0 1.1.9 2 2 2h14c1.1 0 2-.9 2-2V5c0-1.1-.9-2-2-2zM9 17H7v-7h2v7zm4 0h-2V7h2v10zm4 0h-2v-4h2v4z\"/>\n",
              "    </g>\n",
              "</svg>\n",
              "      </button>\n",
              "\n",
              "<style>\n",
              "  .colab-df-quickchart {\n",
              "      --bg-color: #E8F0FE;\n",
              "      --fill-color: #1967D2;\n",
              "      --hover-bg-color: #E2EBFA;\n",
              "      --hover-fill-color: #174EA6;\n",
              "      --disabled-fill-color: #AAA;\n",
              "      --disabled-bg-color: #DDD;\n",
              "  }\n",
              "\n",
              "  [theme=dark] .colab-df-quickchart {\n",
              "      --bg-color: #3B4455;\n",
              "      --fill-color: #D2E3FC;\n",
              "      --hover-bg-color: #434B5C;\n",
              "      --hover-fill-color: #FFFFFF;\n",
              "      --disabled-bg-color: #3B4455;\n",
              "      --disabled-fill-color: #666;\n",
              "  }\n",
              "\n",
              "  .colab-df-quickchart {\n",
              "    background-color: var(--bg-color);\n",
              "    border: none;\n",
              "    border-radius: 50%;\n",
              "    cursor: pointer;\n",
              "    display: none;\n",
              "    fill: var(--fill-color);\n",
              "    height: 32px;\n",
              "    padding: 0;\n",
              "    width: 32px;\n",
              "  }\n",
              "\n",
              "  .colab-df-quickchart:hover {\n",
              "    background-color: var(--hover-bg-color);\n",
              "    box-shadow: 0 1px 2px rgba(60, 64, 67, 0.3), 0 1px 3px 1px rgba(60, 64, 67, 0.15);\n",
              "    fill: var(--button-hover-fill-color);\n",
              "  }\n",
              "\n",
              "  .colab-df-quickchart-complete:disabled,\n",
              "  .colab-df-quickchart-complete:disabled:hover {\n",
              "    background-color: var(--disabled-bg-color);\n",
              "    fill: var(--disabled-fill-color);\n",
              "    box-shadow: none;\n",
              "  }\n",
              "\n",
              "  .colab-df-spinner {\n",
              "    border: 2px solid var(--fill-color);\n",
              "    border-color: transparent;\n",
              "    border-bottom-color: var(--fill-color);\n",
              "    animation:\n",
              "      spin 1s steps(1) infinite;\n",
              "  }\n",
              "\n",
              "  @keyframes spin {\n",
              "    0% {\n",
              "      border-color: transparent;\n",
              "      border-bottom-color: var(--fill-color);\n",
              "      border-left-color: var(--fill-color);\n",
              "    }\n",
              "    20% {\n",
              "      border-color: transparent;\n",
              "      border-left-color: var(--fill-color);\n",
              "      border-top-color: var(--fill-color);\n",
              "    }\n",
              "    30% {\n",
              "      border-color: transparent;\n",
              "      border-left-color: var(--fill-color);\n",
              "      border-top-color: var(--fill-color);\n",
              "      border-right-color: var(--fill-color);\n",
              "    }\n",
              "    40% {\n",
              "      border-color: transparent;\n",
              "      border-right-color: var(--fill-color);\n",
              "      border-top-color: var(--fill-color);\n",
              "    }\n",
              "    60% {\n",
              "      border-color: transparent;\n",
              "      border-right-color: var(--fill-color);\n",
              "    }\n",
              "    80% {\n",
              "      border-color: transparent;\n",
              "      border-right-color: var(--fill-color);\n",
              "      border-bottom-color: var(--fill-color);\n",
              "    }\n",
              "    90% {\n",
              "      border-color: transparent;\n",
              "      border-bottom-color: var(--fill-color);\n",
              "    }\n",
              "  }\n",
              "</style>\n",
              "\n",
              "      <script>\n",
              "        async function quickchart(key) {\n",
              "          const quickchartButtonEl =\n",
              "            document.querySelector('#' + key + ' button');\n",
              "          quickchartButtonEl.disabled = true;  // To prevent multiple clicks.\n",
              "          quickchartButtonEl.classList.add('colab-df-spinner');\n",
              "          try {\n",
              "            const charts = await google.colab.kernel.invokeFunction(\n",
              "                'suggestCharts', [key], {});\n",
              "          } catch (error) {\n",
              "            console.error('Error during call to suggestCharts:', error);\n",
              "          }\n",
              "          quickchartButtonEl.classList.remove('colab-df-spinner');\n",
              "          quickchartButtonEl.classList.add('colab-df-quickchart-complete');\n",
              "        }\n",
              "        (() => {\n",
              "          let quickchartButtonEl =\n",
              "            document.querySelector('#df-01b2a8ab-8a85-4179-a90a-17196b248970 button');\n",
              "          quickchartButtonEl.style.display =\n",
              "            google.colab.kernel.accessAllowed ? 'block' : 'none';\n",
              "        })();\n",
              "      </script>\n",
              "    </div>\n",
              "\n",
              "    </div>\n",
              "  </div>\n"
            ],
            "application/vnd.google.colaboratory.intrinsic+json": {
              "type": "dataframe",
              "summary": "{\n  \"name\": \"display(balance_df\",\n  \"rows\": 10,\n  \"fields\": [\n    {\n      \"column\": \"feature\",\n      \"properties\": {\n        \"dtype\": \"string\",\n        \"num_unique_values\": 10,\n        \"samples\": [\n          \"completion_ratio\",\n          \"total_listens\",\n          \"city\"\n        ],\n        \"semantic_type\": \"\",\n        \"description\": \"\"\n      }\n    },\n    {\n      \"column\": \"|SMD|_before\",\n      \"properties\": {\n        \"dtype\": \"number\",\n        \"std\": 0.10551961374573328,\n        \"min\": 0.04593405678108713,\n        \"max\": 0.3663143661095017,\n        \"num_unique_values\": 10,\n        \"samples\": [\n          0.2212056232753596,\n          0.23759531740908627,\n          0.2273110914305464\n        ],\n        \"semantic_type\": \"\",\n        \"description\": \"\"\n      }\n    },\n    {\n      \"column\": \"|SMD|_after\",\n      \"properties\": {\n        \"dtype\": \"number\",\n        \"std\": 0.07473715696944483,\n        \"min\": 0.03413169963490003,\n        \"max\": 0.31533619083260445,\n        \"num_unique_values\": 10,\n        \"samples\": [\n          0.13987129476614632,\n          0.2264493127693634,\n          0.21712547897350934\n        ],\n        \"semantic_type\": \"\",\n        \"description\": \"\"\n      }\n    }\n  ]\n}"
            }
          },
          "metadata": {}
        }
      ]
    },
    {
      "cell_type": "markdown",
      "source": [
        "## Mediation Analysis (Engagement → Auto-renew → Churn)"
      ],
      "metadata": {
        "id": "CBxUO7FzSHtz"
      }
    },
    {
      "cell_type": "markdown",
      "source": [
        "\n",
        "\n",
        "**Goal.** We don’t just want to know *whether* auto-renew relates to churn; we want to know **how much of the effect of user engagement on churn flows through auto-renew**.\n",
        "\n",
        "**Setup.**\n",
        "- **Exposure (X):** Engagement (a composite score from usage features).\n",
        "- **Mediator (M):** `treatment` (auto-renew on/off).\n",
        "- **Outcome (Y):** `is_churn`.\n",
        "\n",
        "**What MA estimates**\n",
        "- **ACME / Indirect effect (X → M → Y):** Part of engagement’s effect that operates *through* auto-renew.\n",
        "- **ADE / Direct effect (X → Y | M):** Part of engagement’s effect *not* through auto-renew.\n",
        "- **Total effect = ACME + ADE.**\n",
        "- **Proportion mediated = ACME / Total.**\n",
        "\n",
        "**Assumptions (key):**\n",
        "- No unmeasured confounders of (X,Y), (X,M), and (M,Y) after controlling for the confounders we include.\n",
        "- Correct model specification for the mediator and outcome models.\n",
        "\n",
        "We’ll:\n",
        "1) Build a simple **engagement_score** (standardize + average a few usage features).\n",
        "2) Fit GLM Binomial (logit) models for mediator and outcome.\n",
        "3) Use **bootstrap** to get CIs for ACME/ADE.\n",
        "4) (Optional) Run on a stratified **sample** to avoid memory issues.\n"
      ],
      "metadata": {
        "id": "l73Gh6fXmthc"
      }
    },
    {
      "cell_type": "code",
      "source": [
        "# Reproducibility for bootstrap\n",
        "np.random.seed(42)\n",
        "\n",
        "# Build a composite engagement score (tweak features if you like)\n",
        "engagement_vars = [\n",
        "    \"active_days\",\n",
        "    \"total_listens\",\n",
        "    \"complete_listens\",\n",
        "    \"avg_unique_songs_per_day\",\n",
        "    \"completion_ratio\",\n",
        "]\n",
        "scaler = StandardScaler()\n",
        "dfc[\"engagement_score\"] = scaler.fit_transform(dfc[engagement_vars]).mean(axis=1)\n",
        "\n",
        "# Keep only the columns we need for mediation\n",
        "cols = [\"is_churn\",\"treatment\",\"engagement_score\",\"city\",\"gender\",\"reg_year\",\"reg_month\"]\n",
        "base = dfc[cols].copy()\n",
        "\n",
        "# Optional: reduce high-cardinality categories for speed/memory\n",
        "top_cities = base[\"city\"].value_counts().nlargest(50).index\n",
        "base[\"city\"] = base[\"city\"].where(base[\"city\"].isin(top_cities), \"other\")\n",
        "\n",
        "# Cast categoricals (helps both speed and correct formula handling)\n",
        "base[\"city\"]   = base[\"city\"].astype(\"category\")\n",
        "base[\"gender\"] = base[\"gender\"].astype(\"category\")\n",
        "\n",
        "# Recommended) Run on a stratified sample to avoid crashes\n",
        "df_med, _ = train_test_split(base, train_size=150_000, random_state=42,\n",
        "                             stratify=base[\"treatment\"])\n",
        "\n",
        "# Specify mediator & outcome models (GLM Binomial with logit link)\n",
        "med_formula = \"treatment ~ engagement_score + C(city) + C(gender) + reg_year + reg_month\"\n",
        "out_formula = \"is_churn ~ engagement_score + treatment + C(city) + C(gender) + reg_year + reg_month\"\n",
        "\n",
        "med_model = smf.glm(med_formula, data=df_med, family=sm.families.Binomial())\n",
        "out_model = smf.glm(out_formula, data=df_med, family=sm.families.Binomial())\n",
        "\n",
        "# Mediation: X=engagement_score (exposure), M=treatment (mediator)\n",
        "med = Mediation(out_model, med_model, exposure=\"engagement_score\", mediator=\"treatment\")\n",
        "\n",
        "# Bootstrap for CIs (start small, then increase if it runs fine)\n",
        "med_res = med.fit(method=\"bootstrap\", n_rep=100)   # try 300–1000 later if resources allow\n",
        "print(med_res.summary())"
      ],
      "metadata": {
        "colab": {
          "base_uri": "https://localhost:8080/"
        },
        "id": "HOxHEvEInYib",
        "outputId": "4b1d51db-64f5-42cc-a302-e28bfb33999d"
      },
      "execution_count": 7,
      "outputs": [
        {
          "output_type": "stream",
          "name": "stdout",
          "text": [
            "                          Estimate  Lower CI bound  Upper CI bound  P-value\n",
            "ACME (control)           -0.000059       -0.000730        0.000801     0.86\n",
            "ACME (treated)           -0.000047       -0.000583        0.000655     0.86\n",
            "ADE (control)            -0.015030       -0.016888       -0.013019     0.00\n",
            "ADE (treated)            -0.015018       -0.016901       -0.013015     0.00\n",
            "Total effect             -0.015078       -0.016867       -0.013186     0.00\n",
            "Prop. mediated (control)  0.003407       -0.056573        0.046528     0.86\n",
            "Prop. mediated (treated)  0.002653       -0.046250        0.037951     0.86\n",
            "ACME (average)           -0.000053       -0.000656        0.000728     0.86\n",
            "ADE (average)            -0.015024       -0.016895       -0.013018     0.00\n",
            "Prop. mediated (average)  0.003030       -0.051412        0.042192     0.86\n"
          ]
        }
      ]
    },
    {
      "cell_type": "markdown",
      "source": [
        "We tested whether auto-renew is an independent cause of churn or just a pathway through which engaged users stick around."
      ],
      "metadata": {
        "id": "Y2dzENaSrY2h"
      }
    },
    {
      "cell_type": "markdown",
      "source": [
        "### Reflection on Mediation Results\n",
        "\n",
        "At first, we expected that **auto-renew would mediate the relationship between engagement and churn**.  \n",
        "The reasoning was intuitive: more engaged users → more likely to enable auto-renew → lower chance of churn.  \n",
        "\n",
        "**What we actually found:**\n",
        "- **Direct effect (ADE):** Engagement strongly and significantly reduces churn (~1.5 pp).  \n",
        "- **Indirect effect (ACME):** The mediation pathway through auto-renew is essentially zero and not significant.  \n",
        "- **Proportion mediated:** Less than 1% of the effect flows through auto-renew.  \n",
        "\n",
        "**Why this is surprising:**  \n",
        "- In predictive models, `auto_renew_rate` showed up as a top churn predictor.  \n",
        "- But in causal mediation, it doesn’t play the role of a mechanism.  \n",
        "\n",
        "**Possible explanations:**  \n",
        "1. **Imbalance in auto-renew:** >90% of users are already set to auto-renew, leaving little variation to explain.  \n",
        "2. **Engagement drives retention directly:** Engaged users may consciously keep subscribing, regardless of billing settings.  \n",
        "3. **Auto-renew may be policy-driven, not behavioral:** If auto-renew is default, it’s more of an *administrative flag* than a user-driven mechanism.  \n",
        "\n",
        "**Takeaway:**  \n",
        "This highlights the key difference between **prediction** and **causal inference**.  \n",
        "- Predictive models can flag `auto_renew` as important for distinguishing churners.  \n",
        "- But causal analysis shows that **auto-renew is not the pathway** by which engagement reduces churn.  \n",
        "- In practice: improving user engagement itself is the actionable driver of retention, not auto-renew toggles.  \n"
      ],
      "metadata": {
        "id": "v0HDOXXwz4SA"
      }
    }
  ]
}