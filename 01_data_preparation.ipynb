{
  "nbformat": 4,
  "nbformat_minor": 0,
  "metadata": {
    "colab": {
      "provenance": [],
      "authorship_tag": "ABX9TyP2AR2eK1LrTjqfR9Z4k66d",
      "include_colab_link": true
    },
    "kernelspec": {
      "name": "python3",
      "display_name": "Python 3"
    },
    "language_info": {
      "name": "python"
    }
  },
  "cells": [
    {
      "cell_type": "markdown",
      "metadata": {
        "id": "view-in-github",
        "colab_type": "text"
      },
      "source": [
        "<a href=\"https://colab.research.google.com/github/AgnesElza/subscription-retention-analytics/blob/main/01_data_preparation.ipynb\" target=\"_parent\"><img src=\"https://colab.research.google.com/assets/colab-badge.svg\" alt=\"Open In Colab\"/></a>"
      ]
    },
    {
      "cell_type": "markdown",
      "source": [
        "# Subscription Retention Analysis & Churn Prediction (KKBox)"
      ],
      "metadata": {
        "id": "CxiCwzp5v7r5"
      }
    },
    {
      "cell_type": "markdown",
      "source": [
        "## Step 1: Define the Product Problem (business framing)"
      ],
      "metadata": {
        "id": "vXCD_aTYwJwQ"
      }
    },
    {
      "cell_type": "markdown",
      "source": [
        "### Introduction\n",
        "Retention is one of the most critical product metrics for subscription-based businesses.\n",
        "In this project, we analyze KKBox's music streaming dataset to:\n",
        "- Identify drivers of customer churn\n",
        "- Build a predictive churn model\n",
        "- Simulate an experiment to test retention strategies\n",
        "- Translate insights into actionable business recommendations\n",
        "\n",
        "**Business Problem:**  \n",
        "How can we improve user retention by identifying who is at risk of churning and testing personalized engagement strategies?\n",
        "\n",
        "**Success Metrics:**\n",
        "- Product metric: Increase 30-day retention by 5%  \n",
        "- Data science metrics: AUC > 0.75 for churn model, statistically significant uplift (p < 0.05) in simulated A/B test  \n",
        "\n",
        "---\n",
        "\n",
        "### Project Workflow\n",
        "1. **Data Understanding** – Explore users, transactions, and activity logs  \n",
        "2. **Data Preparation** – Clean and engineer features for churn modeling  \n",
        "3. **Exploratory Analysis** – Identify behavior patterns linked with churn  \n",
        "4. **Churn Prediction Model** – Train and evaluate predictive models  \n",
        "5. **Causal Insights** – Apply methods to separate correlation vs. causation  \n",
        "6. **Experiment Simulation** – Design and simulate an A/B test on retention strategies  \n",
        "7. **Conclusions & Business Recommendations**  \n",
        "\n",
        "---\n",
        "\n",
        "### Dataset\n",
        "This project uses the **WSDM–KKBox’s Churn Dataset**:  \n",
        "- `members.csv` → demographics  \n",
        "- `transactions.csv` → subscription history  \n",
        "- `user_logs.csv` → daily activity  \n",
        "- `train.csv` → churn labels  \n",
        "\n",
        "Source: [Kaggle – KKBox Churn Prediction Challenge](https://www.kaggle.com/competitions/kkbox-churn-prediction-challenge/data)\n",
        "\n",
        "---"
      ],
      "metadata": {
        "id": "RawNjT8Ez_B1"
      }
    },
    {
      "cell_type": "markdown",
      "source": [
        "## Step 2: Data Understanding"
      ],
      "metadata": {
        "id": "zPngqBqmwL6U"
      }
    },
    {
      "cell_type": "markdown",
      "source": [
        "### Data Download & Project Setup"
      ],
      "metadata": {
        "id": "ck7ShKKcr6C3"
      }
    },
    {
      "cell_type": "code",
      "source": [
        "# Mounting Google Drive in Colab\n",
        "from google.colab import drive\n",
        "drive.mount('/content/drive')"
      ],
      "metadata": {
        "colab": {
          "base_uri": "https://localhost:8080/"
        },
        "id": "T9pWNmUYBKaI",
        "outputId": "f24ba0d6-d77b-4197-946b-5e8f9951585f"
      },
      "execution_count": null,
      "outputs": [
        {
          "output_type": "stream",
          "name": "stdout",
          "text": [
            "Drive already mounted at /content/drive; to attempt to forcibly remount, call drive.mount(\"/content/drive\", force_remount=True).\n"
          ]
        }
      ]
    },
    {
      "cell_type": "code",
      "source": [
        "# Core data & visualization\n",
        "import pandas as pd\n",
        "import numpy as np\n",
        "import matplotlib.pyplot as plt\n",
        "import seaborn as sns\n",
        "\n",
        "# Modeling basics\n",
        "from sklearn.model_selection import train_test_split\n",
        "from sklearn.metrics import roc_auc_score, confusion_matrix, classification_report\n",
        "\n",
        "# Notebook display options\n",
        "pd.set_option(\"display.max_columns\", 50)\n",
        "pd.set_option(\"display.max_rows\", 100)"
      ],
      "metadata": {
        "id": "HvVKmxKN2FLB"
      },
      "execution_count": null,
      "outputs": []
    },
    {
      "cell_type": "code",
      "source": [
        "# Creating a Project Folder in Drive\n",
        "import os\n",
        "\n",
        "# Path inside your Google Drive\n",
        "data_path = \"/content/drive/MyDrive/data_science_projects/kkbox_project/data\"\n",
        "os.makedirs(data_path, exist_ok=True)\n"
      ],
      "metadata": {
        "id": "4ZH8VeUiCYp3"
      },
      "execution_count": null,
      "outputs": []
    },
    {
      "cell_type": "markdown",
      "source": [
        "Uncomment the below cells if you want to download dataset from Kaggle to your drive using Kaggle API."
      ],
      "metadata": {
        "id": "r9r0eOmFgWzs"
      }
    },
    {
      "cell_type": "code",
      "source": [
        "# # Download KKBox Data with Kaggle API into Drive\n",
        "# # Since this data is from a challenge, you will have to accept the rules before downloading the data\n",
        "\n",
        "# !pip install -q kaggle\n",
        "\n",
        "# # Add your Kaggle API key (make sure kaggle.json is already uploaded )\n",
        "# !mkdir -p ~/.kaggle\n",
        "# !cp /content/drive/MyDrive/data_science_projects/kaggle.json ~/.kaggle/\n",
        "# !chmod 600 ~/.kaggle/kaggle.json"
      ],
      "metadata": {
        "id": "55ln9kdkD23Y"
      },
      "execution_count": null,
      "outputs": []
    },
    {
      "cell_type": "code",
      "source": [
        "# # Confirm CLI sees your account\n",
        "# !kaggle config view\n",
        "# # Quick sanity: can we hit Kaggle at all?\n",
        "# !kaggle competitions list -s kkbox | head -n 20"
      ],
      "metadata": {
        "id": "PNgKJFhjPx_f"
      },
      "execution_count": null,
      "outputs": []
    },
    {
      "cell_type": "code",
      "source": [
        "# # Download dataset directly into Drive\n",
        "# !kaggle competitions download -c kkbox-churn-prediction-challenge -p \"$project_path\""
      ],
      "metadata": {
        "id": "npZEANcFP0li"
      },
      "execution_count": null,
      "outputs": []
    },
    {
      "cell_type": "code",
      "source": [
        "# # Check the download\n",
        "# os.listdir(\"/content/drive/MyDrive/data_science_projects/kkbox_project/data\")"
      ],
      "metadata": {
        "id": "bGQ86JJvNuM0"
      },
      "execution_count": null,
      "outputs": []
    },
    {
      "cell_type": "code",
      "source": [
        "# # Unzip into the same Drive folder\n",
        "# !unzip -q \"$project_path/kkbox-churn-prediction-challenge\" -d \"$project_path\""
      ],
      "metadata": {
        "id": "Z_eHH519NnYh"
      },
      "execution_count": null,
      "outputs": []
    },
    {
      "cell_type": "markdown",
      "source": [
        "Uncomment after placing your data in your drive."
      ],
      "metadata": {
        "id": "abxHCD9oh80S"
      }
    },
    {
      "cell_type": "code",
      "source": [
        "# # Install 7zip tool\n",
        "# !apt-get install -y p7zip-full"
      ],
      "metadata": {
        "colab": {
          "base_uri": "https://localhost:8080/"
        },
        "id": "j5uZajErhyHV",
        "outputId": "5dfcca2a-0a6f-4662-d472-ae6e31db7adb"
      },
      "execution_count": null,
      "outputs": [
        {
          "output_type": "stream",
          "name": "stdout",
          "text": [
            "Reading package lists... Done\n",
            "Building dependency tree... Done\n",
            "Reading state information... Done\n",
            "p7zip-full is already the newest version (16.02+dfsg-8).\n",
            "0 upgraded, 0 newly installed, 0 to remove and 35 not upgraded.\n"
          ]
        }
      ]
    },
    {
      "cell_type": "code",
      "source": [
        "# import glob, subprocess, os, shlex\n",
        "\n",
        "# data_path = \"/content/drive/MyDrive/data_science_projects/kkbox_project/data\"\n",
        "\n",
        "# for z in glob.glob(os.path.join(data_path, \"*.7z\")):\n",
        "#     cmd = f'7z x {shlex.quote(z)} -o{shlex.quote(data_path)} -y'\n",
        "#     print(\"Extracting:\", os.path.basename(z))\n",
        "#     subprocess.run(cmd, shell=True, check=True)\n",
        "\n",
        "# # Verify extraction\n",
        "# [f for f in os.listdir(data_path) if f.endswith(\".csv\")]"
      ],
      "metadata": {
        "colab": {
          "base_uri": "https://localhost:8080/"
        },
        "id": "i9LbZb2liHS0",
        "outputId": "c839cfe8-f931-4b28-e089-7be89478cb47"
      },
      "execution_count": null,
      "outputs": [
        {
          "output_type": "stream",
          "name": "stdout",
          "text": [
            "Extracting: user_logs.csv.7z\n",
            "Extracting: transactions.csv.7z\n",
            "Extracting: train.csv.7z\n",
            "Extracting: members_v3.csv.7z\n"
          ]
        },
        {
          "output_type": "execute_result",
          "data": {
            "text/plain": [
              "['user_logs.csv', 'transactions.csv', 'train.csv', 'members_v3.csv']"
            ]
          },
          "metadata": {},
          "execution_count": 22
        }
      ]
    },
    {
      "cell_type": "markdown",
      "source": [
        "### Initial Exploration & Sanity Checks"
      ],
      "metadata": {
        "id": "Hlzl5FIpsnIe"
      }
    },
    {
      "cell_type": "code",
      "source": [
        "# Load manageable datasets fully\n",
        "data_path = \"/content/drive/MyDrive/data_science_projects/kkbox_project/data\"\n",
        "train = pd.read_csv(f\"{data_path}/train.csv\")\n",
        "members = pd.read_csv(f\"{data_path}/members_v3.csv\")\n",
        "transactions = pd.read_csv(f\"{data_path}/transactions.csv\")"
      ],
      "metadata": {
        "id": "XvEofKdltHRw"
      },
      "execution_count": null,
      "outputs": []
    },
    {
      "cell_type": "markdown",
      "source": [
        "Since user_logs.csv is huge (28 GB), let’s start EDA with the manageable tables:"
      ],
      "metadata": {
        "id": "2GrU9eQCtH-Q"
      }
    },
    {
      "cell_type": "code",
      "source": [
        "train.info()"
      ],
      "metadata": {
        "colab": {
          "base_uri": "https://localhost:8080/"
        },
        "id": "t4iIh9VE8XZt",
        "outputId": "e1e86014-976d-4907-8381-6ae1d4682a76"
      },
      "execution_count": null,
      "outputs": [
        {
          "output_type": "stream",
          "name": "stdout",
          "text": [
            "<class 'pandas.core.frame.DataFrame'>\n",
            "RangeIndex: 992931 entries, 0 to 992930\n",
            "Data columns (total 2 columns):\n",
            " #   Column    Non-Null Count   Dtype \n",
            "---  ------    --------------   ----- \n",
            " 0   msno      992931 non-null  object\n",
            " 1   is_churn  992931 non-null  int64 \n",
            "dtypes: int64(1), object(1)\n",
            "memory usage: 15.2+ MB\n"
          ]
        }
      ]
    },
    {
      "cell_type": "code",
      "source": [
        "members.info()"
      ],
      "metadata": {
        "colab": {
          "base_uri": "https://localhost:8080/"
        },
        "id": "rjROtNVi7TPb",
        "outputId": "40fc1f3e-90af-4a18-e14c-fc574673c8d9"
      },
      "execution_count": null,
      "outputs": [
        {
          "output_type": "stream",
          "name": "stdout",
          "text": [
            "<class 'pandas.core.frame.DataFrame'>\n",
            "RangeIndex: 6769473 entries, 0 to 6769472\n",
            "Data columns (total 6 columns):\n",
            " #   Column                  Dtype \n",
            "---  ------                  ----- \n",
            " 0   msno                    object\n",
            " 1   city                    int64 \n",
            " 2   bd                      int64 \n",
            " 3   gender                  object\n",
            " 4   registered_via          int64 \n",
            " 5   registration_init_time  int64 \n",
            "dtypes: int64(4), object(2)\n",
            "memory usage: 309.9+ MB\n"
          ]
        }
      ]
    },
    {
      "cell_type": "code",
      "source": [
        "transactions.info()"
      ],
      "metadata": {
        "colab": {
          "base_uri": "https://localhost:8080/"
        },
        "id": "RsZeMByk7dQc",
        "outputId": "41595566-a1e4-4c22-c538-721d376a2818"
      },
      "execution_count": null,
      "outputs": [
        {
          "output_type": "stream",
          "name": "stdout",
          "text": [
            "<class 'pandas.core.frame.DataFrame'>\n",
            "RangeIndex: 21547746 entries, 0 to 21547745\n",
            "Data columns (total 9 columns):\n",
            " #   Column                  Dtype \n",
            "---  ------                  ----- \n",
            " 0   msno                    object\n",
            " 1   payment_method_id       int64 \n",
            " 2   payment_plan_days       int64 \n",
            " 3   plan_list_price         int64 \n",
            " 4   actual_amount_paid      int64 \n",
            " 5   is_auto_renew           int64 \n",
            " 6   transaction_date        int64 \n",
            " 7   membership_expire_date  int64 \n",
            " 8   is_cancel               int64 \n",
            "dtypes: int64(8), object(1)\n",
            "memory usage: 1.4+ GB\n"
          ]
        }
      ]
    },
    {
      "cell_type": "markdown",
      "source": [
        "📊 First Observations\n",
        "\n",
        "* The churn label file (train.csv) covers ~1M users, which is a subset of the full 6.8M members.\n",
        "\n",
        "* Transactions are much larger, meaning multiple rows per user (renewals, different plans).\n",
        "\n",
        "* We’ll eventually need to merge on msno to combine user labels + demographics + subscription history."
      ],
      "metadata": {
        "id": "-CTrbiWvu2Zd"
      }
    },
    {
      "cell_type": "markdown",
      "source": [
        "#### Questions to Answer\n",
        "1. What is the churn rate (`is_churn`) in the dataset?  \n",
        "2. What information do we have about users (from `members`)?  \n",
        "3. What patterns exist in transactions (monthly vs. yearly plans, cancellations)?  \n",
        "4. How do these datasets link together (`msno` = user ID)?  "
      ],
      "metadata": {
        "id": "eDzxpBStsqIv"
      }
    },
    {
      "cell_type": "code",
      "source": [
        "# Check churn distribution (how imbalanced is it?)\n",
        "train['is_churn'].value_counts(normalize=True)"
      ],
      "metadata": {
        "colab": {
          "base_uri": "https://localhost:8080/",
          "height": 178
        },
        "id": "2mlXI_FTso8d",
        "outputId": "6667b26b-d9cf-4188-a868-b73fdaeffebf"
      },
      "execution_count": null,
      "outputs": [
        {
          "output_type": "execute_result",
          "data": {
            "text/plain": [
              "is_churn\n",
              "0    0.936077\n",
              "1    0.063923\n",
              "Name: proportion, dtype: float64"
            ],
            "text/html": [
              "<div>\n",
              "<style scoped>\n",
              "    .dataframe tbody tr th:only-of-type {\n",
              "        vertical-align: middle;\n",
              "    }\n",
              "\n",
              "    .dataframe tbody tr th {\n",
              "        vertical-align: top;\n",
              "    }\n",
              "\n",
              "    .dataframe thead th {\n",
              "        text-align: right;\n",
              "    }\n",
              "</style>\n",
              "<table border=\"1\" class=\"dataframe\">\n",
              "  <thead>\n",
              "    <tr style=\"text-align: right;\">\n",
              "      <th></th>\n",
              "      <th>proportion</th>\n",
              "    </tr>\n",
              "    <tr>\n",
              "      <th>is_churn</th>\n",
              "      <th></th>\n",
              "    </tr>\n",
              "  </thead>\n",
              "  <tbody>\n",
              "    <tr>\n",
              "      <th>0</th>\n",
              "      <td>0.936077</td>\n",
              "    </tr>\n",
              "    <tr>\n",
              "      <th>1</th>\n",
              "      <td>0.063923</td>\n",
              "    </tr>\n",
              "  </tbody>\n",
              "</table>\n",
              "</div><br><label><b>dtype:</b> float64</label>"
            ]
          },
          "metadata": {},
          "execution_count": 9
        }
      ]
    },
    {
      "cell_type": "markdown",
      "source": [
        "Churn distribution tells us\n",
        "\n",
        "*   Churn rate: ~6.4%\n",
        "*   Retention: ~93.6%\n",
        "\n",
        "📊 What this means\n",
        "\n",
        "* The dataset is highly imbalanced → most users did not churn.\n",
        "\n",
        "* This is realistic (subscription services usually have lower churn than retention).\n",
        "\n",
        "For modeling:\n",
        "\n",
        "* Accuracy will be misleading (a dumb model predicting “no churn” gets 93%!).\n",
        "\n",
        "* Focus on AUC, precision/recall, F1, PR-AUC.\n",
        "\n",
        "* Class balancing strategies: oversampling (SMOTE), undersampling, or class weights."
      ],
      "metadata": {
        "id": "GYhp6N__v-9G"
      }
    },
    {
      "cell_type": "code",
      "source": [
        "members.describe(include='all')"
      ],
      "metadata": {
        "colab": {
          "base_uri": "https://localhost:8080/",
          "height": 414
        },
        "id": "x8AZL1iC668i",
        "outputId": "7c7556e5-1fec-4518-9e9a-14d9ff87fc17"
      },
      "execution_count": null,
      "outputs": [
        {
          "output_type": "execute_result",
          "data": {
            "text/plain": [
              "                                                msno          city  \\\n",
              "count                                        6769473  6.769473e+06   \n",
              "unique                                       6769473           NaN   \n",
              "top     isBt+JlgvZRNy6lxVr5vvuJ4lD00ofTaKyJ+uRnGcPg=           NaN   \n",
              "freq                                               1           NaN   \n",
              "mean                                             NaN  3.847358e+00   \n",
              "std                                              NaN  5.478359e+00   \n",
              "min                                              NaN  1.000000e+00   \n",
              "25%                                              NaN  1.000000e+00   \n",
              "50%                                              NaN  1.000000e+00   \n",
              "75%                                              NaN  4.000000e+00   \n",
              "max                                              NaN  2.200000e+01   \n",
              "\n",
              "                  bd   gender  registered_via  registration_init_time  \n",
              "count   6.769473e+06  2339968    6.769473e+06            6.769473e+06  \n",
              "unique           NaN        2             NaN                     NaN  \n",
              "top              NaN     male             NaN                     NaN  \n",
              "freq             NaN  1195355             NaN                     NaN  \n",
              "mean    9.795794e+00      NaN    5.253069e+00            2.014518e+07  \n",
              "std     1.792590e+01      NaN    2.361398e+00            2.318601e+04  \n",
              "min    -7.168000e+03      NaN   -1.000000e+00            2.004033e+07  \n",
              "25%     0.000000e+00      NaN    4.000000e+00            2.014042e+07  \n",
              "50%     0.000000e+00      NaN    4.000000e+00            2.015101e+07  \n",
              "75%     2.100000e+01      NaN    7.000000e+00            2.016060e+07  \n",
              "max     2.016000e+03      NaN    1.900000e+01            2.017043e+07  "
            ],
            "text/html": [
              "\n",
              "  <div id=\"df-3888c212-3dc1-4cbe-91b5-325671c4004d\" class=\"colab-df-container\">\n",
              "    <div>\n",
              "<style scoped>\n",
              "    .dataframe tbody tr th:only-of-type {\n",
              "        vertical-align: middle;\n",
              "    }\n",
              "\n",
              "    .dataframe tbody tr th {\n",
              "        vertical-align: top;\n",
              "    }\n",
              "\n",
              "    .dataframe thead th {\n",
              "        text-align: right;\n",
              "    }\n",
              "</style>\n",
              "<table border=\"1\" class=\"dataframe\">\n",
              "  <thead>\n",
              "    <tr style=\"text-align: right;\">\n",
              "      <th></th>\n",
              "      <th>msno</th>\n",
              "      <th>city</th>\n",
              "      <th>bd</th>\n",
              "      <th>gender</th>\n",
              "      <th>registered_via</th>\n",
              "      <th>registration_init_time</th>\n",
              "    </tr>\n",
              "  </thead>\n",
              "  <tbody>\n",
              "    <tr>\n",
              "      <th>count</th>\n",
              "      <td>6769473</td>\n",
              "      <td>6.769473e+06</td>\n",
              "      <td>6.769473e+06</td>\n",
              "      <td>2339968</td>\n",
              "      <td>6.769473e+06</td>\n",
              "      <td>6.769473e+06</td>\n",
              "    </tr>\n",
              "    <tr>\n",
              "      <th>unique</th>\n",
              "      <td>6769473</td>\n",
              "      <td>NaN</td>\n",
              "      <td>NaN</td>\n",
              "      <td>2</td>\n",
              "      <td>NaN</td>\n",
              "      <td>NaN</td>\n",
              "    </tr>\n",
              "    <tr>\n",
              "      <th>top</th>\n",
              "      <td>isBt+JlgvZRNy6lxVr5vvuJ4lD00ofTaKyJ+uRnGcPg=</td>\n",
              "      <td>NaN</td>\n",
              "      <td>NaN</td>\n",
              "      <td>male</td>\n",
              "      <td>NaN</td>\n",
              "      <td>NaN</td>\n",
              "    </tr>\n",
              "    <tr>\n",
              "      <th>freq</th>\n",
              "      <td>1</td>\n",
              "      <td>NaN</td>\n",
              "      <td>NaN</td>\n",
              "      <td>1195355</td>\n",
              "      <td>NaN</td>\n",
              "      <td>NaN</td>\n",
              "    </tr>\n",
              "    <tr>\n",
              "      <th>mean</th>\n",
              "      <td>NaN</td>\n",
              "      <td>3.847358e+00</td>\n",
              "      <td>9.795794e+00</td>\n",
              "      <td>NaN</td>\n",
              "      <td>5.253069e+00</td>\n",
              "      <td>2.014518e+07</td>\n",
              "    </tr>\n",
              "    <tr>\n",
              "      <th>std</th>\n",
              "      <td>NaN</td>\n",
              "      <td>5.478359e+00</td>\n",
              "      <td>1.792590e+01</td>\n",
              "      <td>NaN</td>\n",
              "      <td>2.361398e+00</td>\n",
              "      <td>2.318601e+04</td>\n",
              "    </tr>\n",
              "    <tr>\n",
              "      <th>min</th>\n",
              "      <td>NaN</td>\n",
              "      <td>1.000000e+00</td>\n",
              "      <td>-7.168000e+03</td>\n",
              "      <td>NaN</td>\n",
              "      <td>-1.000000e+00</td>\n",
              "      <td>2.004033e+07</td>\n",
              "    </tr>\n",
              "    <tr>\n",
              "      <th>25%</th>\n",
              "      <td>NaN</td>\n",
              "      <td>1.000000e+00</td>\n",
              "      <td>0.000000e+00</td>\n",
              "      <td>NaN</td>\n",
              "      <td>4.000000e+00</td>\n",
              "      <td>2.014042e+07</td>\n",
              "    </tr>\n",
              "    <tr>\n",
              "      <th>50%</th>\n",
              "      <td>NaN</td>\n",
              "      <td>1.000000e+00</td>\n",
              "      <td>0.000000e+00</td>\n",
              "      <td>NaN</td>\n",
              "      <td>4.000000e+00</td>\n",
              "      <td>2.015101e+07</td>\n",
              "    </tr>\n",
              "    <tr>\n",
              "      <th>75%</th>\n",
              "      <td>NaN</td>\n",
              "      <td>4.000000e+00</td>\n",
              "      <td>2.100000e+01</td>\n",
              "      <td>NaN</td>\n",
              "      <td>7.000000e+00</td>\n",
              "      <td>2.016060e+07</td>\n",
              "    </tr>\n",
              "    <tr>\n",
              "      <th>max</th>\n",
              "      <td>NaN</td>\n",
              "      <td>2.200000e+01</td>\n",
              "      <td>2.016000e+03</td>\n",
              "      <td>NaN</td>\n",
              "      <td>1.900000e+01</td>\n",
              "      <td>2.017043e+07</td>\n",
              "    </tr>\n",
              "  </tbody>\n",
              "</table>\n",
              "</div>\n",
              "    <div class=\"colab-df-buttons\">\n",
              "\n",
              "  <div class=\"colab-df-container\">\n",
              "    <button class=\"colab-df-convert\" onclick=\"convertToInteractive('df-3888c212-3dc1-4cbe-91b5-325671c4004d')\"\n",
              "            title=\"Convert this dataframe to an interactive table.\"\n",
              "            style=\"display:none;\">\n",
              "\n",
              "  <svg xmlns=\"http://www.w3.org/2000/svg\" height=\"24px\" viewBox=\"0 -960 960 960\">\n",
              "    <path d=\"M120-120v-720h720v720H120Zm60-500h600v-160H180v160Zm220 220h160v-160H400v160Zm0 220h160v-160H400v160ZM180-400h160v-160H180v160Zm440 0h160v-160H620v160ZM180-180h160v-160H180v160Zm440 0h160v-160H620v160Z\"/>\n",
              "  </svg>\n",
              "    </button>\n",
              "\n",
              "  <style>\n",
              "    .colab-df-container {\n",
              "      display:flex;\n",
              "      gap: 12px;\n",
              "    }\n",
              "\n",
              "    .colab-df-convert {\n",
              "      background-color: #E8F0FE;\n",
              "      border: none;\n",
              "      border-radius: 50%;\n",
              "      cursor: pointer;\n",
              "      display: none;\n",
              "      fill: #1967D2;\n",
              "      height: 32px;\n",
              "      padding: 0 0 0 0;\n",
              "      width: 32px;\n",
              "    }\n",
              "\n",
              "    .colab-df-convert:hover {\n",
              "      background-color: #E2EBFA;\n",
              "      box-shadow: 0px 1px 2px rgba(60, 64, 67, 0.3), 0px 1px 3px 1px rgba(60, 64, 67, 0.15);\n",
              "      fill: #174EA6;\n",
              "    }\n",
              "\n",
              "    .colab-df-buttons div {\n",
              "      margin-bottom: 4px;\n",
              "    }\n",
              "\n",
              "    [theme=dark] .colab-df-convert {\n",
              "      background-color: #3B4455;\n",
              "      fill: #D2E3FC;\n",
              "    }\n",
              "\n",
              "    [theme=dark] .colab-df-convert:hover {\n",
              "      background-color: #434B5C;\n",
              "      box-shadow: 0px 1px 3px 1px rgba(0, 0, 0, 0.15);\n",
              "      filter: drop-shadow(0px 1px 2px rgba(0, 0, 0, 0.3));\n",
              "      fill: #FFFFFF;\n",
              "    }\n",
              "  </style>\n",
              "\n",
              "    <script>\n",
              "      const buttonEl =\n",
              "        document.querySelector('#df-3888c212-3dc1-4cbe-91b5-325671c4004d button.colab-df-convert');\n",
              "      buttonEl.style.display =\n",
              "        google.colab.kernel.accessAllowed ? 'block' : 'none';\n",
              "\n",
              "      async function convertToInteractive(key) {\n",
              "        const element = document.querySelector('#df-3888c212-3dc1-4cbe-91b5-325671c4004d');\n",
              "        const dataTable =\n",
              "          await google.colab.kernel.invokeFunction('convertToInteractive',\n",
              "                                                    [key], {});\n",
              "        if (!dataTable) return;\n",
              "\n",
              "        const docLinkHtml = 'Like what you see? Visit the ' +\n",
              "          '<a target=\"_blank\" href=https://colab.research.google.com/notebooks/data_table.ipynb>data table notebook</a>'\n",
              "          + ' to learn more about interactive tables.';\n",
              "        element.innerHTML = '';\n",
              "        dataTable['output_type'] = 'display_data';\n",
              "        await google.colab.output.renderOutput(dataTable, element);\n",
              "        const docLink = document.createElement('div');\n",
              "        docLink.innerHTML = docLinkHtml;\n",
              "        element.appendChild(docLink);\n",
              "      }\n",
              "    </script>\n",
              "  </div>\n",
              "\n",
              "\n",
              "    <div id=\"df-cbff3dae-8e2c-4fdb-b3fa-a0a0325d09dc\">\n",
              "      <button class=\"colab-df-quickchart\" onclick=\"quickchart('df-cbff3dae-8e2c-4fdb-b3fa-a0a0325d09dc')\"\n",
              "                title=\"Suggest charts\"\n",
              "                style=\"display:none;\">\n",
              "\n",
              "<svg xmlns=\"http://www.w3.org/2000/svg\" height=\"24px\"viewBox=\"0 0 24 24\"\n",
              "     width=\"24px\">\n",
              "    <g>\n",
              "        <path d=\"M19 3H5c-1.1 0-2 .9-2 2v14c0 1.1.9 2 2 2h14c1.1 0 2-.9 2-2V5c0-1.1-.9-2-2-2zM9 17H7v-7h2v7zm4 0h-2V7h2v10zm4 0h-2v-4h2v4z\"/>\n",
              "    </g>\n",
              "</svg>\n",
              "      </button>\n",
              "\n",
              "<style>\n",
              "  .colab-df-quickchart {\n",
              "      --bg-color: #E8F0FE;\n",
              "      --fill-color: #1967D2;\n",
              "      --hover-bg-color: #E2EBFA;\n",
              "      --hover-fill-color: #174EA6;\n",
              "      --disabled-fill-color: #AAA;\n",
              "      --disabled-bg-color: #DDD;\n",
              "  }\n",
              "\n",
              "  [theme=dark] .colab-df-quickchart {\n",
              "      --bg-color: #3B4455;\n",
              "      --fill-color: #D2E3FC;\n",
              "      --hover-bg-color: #434B5C;\n",
              "      --hover-fill-color: #FFFFFF;\n",
              "      --disabled-bg-color: #3B4455;\n",
              "      --disabled-fill-color: #666;\n",
              "  }\n",
              "\n",
              "  .colab-df-quickchart {\n",
              "    background-color: var(--bg-color);\n",
              "    border: none;\n",
              "    border-radius: 50%;\n",
              "    cursor: pointer;\n",
              "    display: none;\n",
              "    fill: var(--fill-color);\n",
              "    height: 32px;\n",
              "    padding: 0;\n",
              "    width: 32px;\n",
              "  }\n",
              "\n",
              "  .colab-df-quickchart:hover {\n",
              "    background-color: var(--hover-bg-color);\n",
              "    box-shadow: 0 1px 2px rgba(60, 64, 67, 0.3), 0 1px 3px 1px rgba(60, 64, 67, 0.15);\n",
              "    fill: var(--button-hover-fill-color);\n",
              "  }\n",
              "\n",
              "  .colab-df-quickchart-complete:disabled,\n",
              "  .colab-df-quickchart-complete:disabled:hover {\n",
              "    background-color: var(--disabled-bg-color);\n",
              "    fill: var(--disabled-fill-color);\n",
              "    box-shadow: none;\n",
              "  }\n",
              "\n",
              "  .colab-df-spinner {\n",
              "    border: 2px solid var(--fill-color);\n",
              "    border-color: transparent;\n",
              "    border-bottom-color: var(--fill-color);\n",
              "    animation:\n",
              "      spin 1s steps(1) infinite;\n",
              "  }\n",
              "\n",
              "  @keyframes spin {\n",
              "    0% {\n",
              "      border-color: transparent;\n",
              "      border-bottom-color: var(--fill-color);\n",
              "      border-left-color: var(--fill-color);\n",
              "    }\n",
              "    20% {\n",
              "      border-color: transparent;\n",
              "      border-left-color: var(--fill-color);\n",
              "      border-top-color: var(--fill-color);\n",
              "    }\n",
              "    30% {\n",
              "      border-color: transparent;\n",
              "      border-left-color: var(--fill-color);\n",
              "      border-top-color: var(--fill-color);\n",
              "      border-right-color: var(--fill-color);\n",
              "    }\n",
              "    40% {\n",
              "      border-color: transparent;\n",
              "      border-right-color: var(--fill-color);\n",
              "      border-top-color: var(--fill-color);\n",
              "    }\n",
              "    60% {\n",
              "      border-color: transparent;\n",
              "      border-right-color: var(--fill-color);\n",
              "    }\n",
              "    80% {\n",
              "      border-color: transparent;\n",
              "      border-right-color: var(--fill-color);\n",
              "      border-bottom-color: var(--fill-color);\n",
              "    }\n",
              "    90% {\n",
              "      border-color: transparent;\n",
              "      border-bottom-color: var(--fill-color);\n",
              "    }\n",
              "  }\n",
              "</style>\n",
              "\n",
              "      <script>\n",
              "        async function quickchart(key) {\n",
              "          const quickchartButtonEl =\n",
              "            document.querySelector('#' + key + ' button');\n",
              "          quickchartButtonEl.disabled = true;  // To prevent multiple clicks.\n",
              "          quickchartButtonEl.classList.add('colab-df-spinner');\n",
              "          try {\n",
              "            const charts = await google.colab.kernel.invokeFunction(\n",
              "                'suggestCharts', [key], {});\n",
              "          } catch (error) {\n",
              "            console.error('Error during call to suggestCharts:', error);\n",
              "          }\n",
              "          quickchartButtonEl.classList.remove('colab-df-spinner');\n",
              "          quickchartButtonEl.classList.add('colab-df-quickchart-complete');\n",
              "        }\n",
              "        (() => {\n",
              "          let quickchartButtonEl =\n",
              "            document.querySelector('#df-cbff3dae-8e2c-4fdb-b3fa-a0a0325d09dc button');\n",
              "          quickchartButtonEl.style.display =\n",
              "            google.colab.kernel.accessAllowed ? 'block' : 'none';\n",
              "        })();\n",
              "      </script>\n",
              "    </div>\n",
              "\n",
              "    </div>\n",
              "  </div>\n"
            ],
            "application/vnd.google.colaboratory.intrinsic+json": {
              "type": "dataframe",
              "summary": "{\n  \"name\": \"members\",\n  \"rows\": 11,\n  \"fields\": [\n    {\n      \"column\": \"msno\",\n      \"properties\": {\n        \"dtype\": \"category\",\n        \"num_unique_values\": 3,\n        \"samples\": [\n          \"6769473\",\n          \"isBt+JlgvZRNy6lxVr5vvuJ4lD00ofTaKyJ+uRnGcPg=\",\n          \"1\"\n        ],\n        \"semantic_type\": \"\",\n        \"description\": \"\"\n      }\n    },\n    {\n      \"column\": \"city\",\n      \"properties\": {\n        \"dtype\": \"number\",\n        \"std\": 2393368.195948692,\n        \"min\": 1.0,\n        \"max\": 6769473.0,\n        \"num_unique_values\": 6,\n        \"samples\": [\n          6769473.0,\n          3.847357689439045,\n          22.0\n        ],\n        \"semantic_type\": \"\",\n        \"description\": \"\"\n      }\n    },\n    {\n      \"column\": \"bd\",\n      \"properties\": {\n        \"dtype\": \"number\",\n        \"std\": 2393629.4296855074,\n        \"min\": -7168.0,\n        \"max\": 6769473.0,\n        \"num_unique_values\": 7,\n        \"samples\": [\n          6769473.0,\n          9.795794295951842,\n          21.0\n        ],\n        \"semantic_type\": \"\",\n        \"description\": \"\"\n      }\n    },\n    {\n      \"column\": \"gender\",\n      \"properties\": {\n        \"dtype\": \"category\",\n        \"num_unique_values\": 4,\n        \"samples\": [\n          2,\n          \"1195355\",\n          \"2339968\"\n        ],\n        \"semantic_type\": \"\",\n        \"description\": \"\"\n      }\n    },\n    {\n      \"column\": \"registered_via\",\n      \"properties\": {\n        \"dtype\": \"number\",\n        \"std\": 2393368.0803464367,\n        \"min\": -1.0,\n        \"max\": 6769473.0,\n        \"num_unique_values\": 7,\n        \"samples\": [\n          6769473.0,\n          5.253068739619761,\n          7.0\n        ],\n        \"semantic_type\": \"\",\n        \"description\": \"\"\n      }\n    },\n    {\n      \"column\": \"registration_init_time\",\n      \"properties\": {\n        \"dtype\": \"number\",\n        \"std\": 7955457.031993834,\n        \"min\": 23186.007612105317,\n        \"max\": 20170429.0,\n        \"num_unique_values\": 8,\n        \"samples\": [\n          20145175.906336136,\n          20151010.0,\n          6769473.0\n        ],\n        \"semantic_type\": \"\",\n        \"description\": \"\"\n      }\n    }\n  ]\n}"
            }
          },
          "metadata": {},
          "execution_count": 10
        }
      ]
    },
    {
      "cell_type": "code",
      "source": [
        "transactions.describe(include='all')"
      ],
      "metadata": {
        "colab": {
          "base_uri": "https://localhost:8080/",
          "height": 414
        },
        "id": "EK-ftKZw7a1v",
        "outputId": "6bd8c9d1-dd2b-4c4e-f6e4-19d133b716ea"
      },
      "execution_count": null,
      "outputs": [
        {
          "output_type": "execute_result",
          "data": {
            "text/plain": [
              "                                                msno  payment_method_id  \\\n",
              "count                                       21547746       2.154775e+07   \n",
              "unique                                       2363626                NaN   \n",
              "top     xm6fmAfgZx1OYUXaJuHOObD0H2EAtIktv9NYIVlaTf4=                NaN   \n",
              "freq                                              71                NaN   \n",
              "mean                                             NaN       3.893310e+01   \n",
              "std                                              NaN       3.507936e+00   \n",
              "min                                              NaN       1.000000e+00   \n",
              "25%                                              NaN       3.800000e+01   \n",
              "50%                                              NaN       4.100000e+01   \n",
              "75%                                              NaN       4.100000e+01   \n",
              "max                                              NaN       4.100000e+01   \n",
              "\n",
              "        payment_plan_days  plan_list_price  actual_amount_paid  is_auto_renew  \\\n",
              "count        2.154775e+07     2.154775e+07        2.154775e+07   2.154775e+07   \n",
              "unique                NaN              NaN                 NaN            NaN   \n",
              "top                   NaN              NaN                 NaN            NaN   \n",
              "freq                  NaN              NaN                 NaN            NaN   \n",
              "mean         3.133906e+01     1.398850e+02        1.419873e+02   8.519661e-01   \n",
              "std          3.035649e+01     1.309647e+02        1.324824e+02   3.551336e-01   \n",
              "min          0.000000e+00     0.000000e+00        0.000000e+00   0.000000e+00   \n",
              "25%          3.000000e+01     9.900000e+01        9.900000e+01   1.000000e+00   \n",
              "50%          3.000000e+01     1.490000e+02        1.490000e+02   1.000000e+00   \n",
              "75%          3.000000e+01     1.490000e+02        1.490000e+02   1.000000e+00   \n",
              "max          4.500000e+02     2.000000e+03        2.000000e+03   1.000000e+00   \n",
              "\n",
              "        transaction_date  membership_expire_date     is_cancel  \n",
              "count       2.154775e+07            2.154775e+07  2.154775e+07  \n",
              "unique               NaN                     NaN           NaN  \n",
              "top                  NaN                     NaN           NaN  \n",
              "freq                 NaN                     NaN           NaN  \n",
              "mean        2.015760e+07            2.015862e+07  3.976523e-02  \n",
              "std         6.155979e+03            7.755753e+03  1.954072e-01  \n",
              "min         2.015010e+07            1.970010e+07  0.000000e+00  \n",
              "25%         2.015091e+07            2.015102e+07  0.000000e+00  \n",
              "50%         2.016032e+07            2.016043e+07  0.000000e+00  \n",
              "75%         2.016092e+07            2.016103e+07  0.000000e+00  \n",
              "max         2.017023e+07            2.017033e+07  1.000000e+00  "
            ],
            "text/html": [
              "\n",
              "  <div id=\"df-811e4055-600d-454f-9a4a-7f8f756a23c0\" class=\"colab-df-container\">\n",
              "    <div>\n",
              "<style scoped>\n",
              "    .dataframe tbody tr th:only-of-type {\n",
              "        vertical-align: middle;\n",
              "    }\n",
              "\n",
              "    .dataframe tbody tr th {\n",
              "        vertical-align: top;\n",
              "    }\n",
              "\n",
              "    .dataframe thead th {\n",
              "        text-align: right;\n",
              "    }\n",
              "</style>\n",
              "<table border=\"1\" class=\"dataframe\">\n",
              "  <thead>\n",
              "    <tr style=\"text-align: right;\">\n",
              "      <th></th>\n",
              "      <th>msno</th>\n",
              "      <th>payment_method_id</th>\n",
              "      <th>payment_plan_days</th>\n",
              "      <th>plan_list_price</th>\n",
              "      <th>actual_amount_paid</th>\n",
              "      <th>is_auto_renew</th>\n",
              "      <th>transaction_date</th>\n",
              "      <th>membership_expire_date</th>\n",
              "      <th>is_cancel</th>\n",
              "    </tr>\n",
              "  </thead>\n",
              "  <tbody>\n",
              "    <tr>\n",
              "      <th>count</th>\n",
              "      <td>21547746</td>\n",
              "      <td>2.154775e+07</td>\n",
              "      <td>2.154775e+07</td>\n",
              "      <td>2.154775e+07</td>\n",
              "      <td>2.154775e+07</td>\n",
              "      <td>2.154775e+07</td>\n",
              "      <td>2.154775e+07</td>\n",
              "      <td>2.154775e+07</td>\n",
              "      <td>2.154775e+07</td>\n",
              "    </tr>\n",
              "    <tr>\n",
              "      <th>unique</th>\n",
              "      <td>2363626</td>\n",
              "      <td>NaN</td>\n",
              "      <td>NaN</td>\n",
              "      <td>NaN</td>\n",
              "      <td>NaN</td>\n",
              "      <td>NaN</td>\n",
              "      <td>NaN</td>\n",
              "      <td>NaN</td>\n",
              "      <td>NaN</td>\n",
              "    </tr>\n",
              "    <tr>\n",
              "      <th>top</th>\n",
              "      <td>xm6fmAfgZx1OYUXaJuHOObD0H2EAtIktv9NYIVlaTf4=</td>\n",
              "      <td>NaN</td>\n",
              "      <td>NaN</td>\n",
              "      <td>NaN</td>\n",
              "      <td>NaN</td>\n",
              "      <td>NaN</td>\n",
              "      <td>NaN</td>\n",
              "      <td>NaN</td>\n",
              "      <td>NaN</td>\n",
              "    </tr>\n",
              "    <tr>\n",
              "      <th>freq</th>\n",
              "      <td>71</td>\n",
              "      <td>NaN</td>\n",
              "      <td>NaN</td>\n",
              "      <td>NaN</td>\n",
              "      <td>NaN</td>\n",
              "      <td>NaN</td>\n",
              "      <td>NaN</td>\n",
              "      <td>NaN</td>\n",
              "      <td>NaN</td>\n",
              "    </tr>\n",
              "    <tr>\n",
              "      <th>mean</th>\n",
              "      <td>NaN</td>\n",
              "      <td>3.893310e+01</td>\n",
              "      <td>3.133906e+01</td>\n",
              "      <td>1.398850e+02</td>\n",
              "      <td>1.419873e+02</td>\n",
              "      <td>8.519661e-01</td>\n",
              "      <td>2.015760e+07</td>\n",
              "      <td>2.015862e+07</td>\n",
              "      <td>3.976523e-02</td>\n",
              "    </tr>\n",
              "    <tr>\n",
              "      <th>std</th>\n",
              "      <td>NaN</td>\n",
              "      <td>3.507936e+00</td>\n",
              "      <td>3.035649e+01</td>\n",
              "      <td>1.309647e+02</td>\n",
              "      <td>1.324824e+02</td>\n",
              "      <td>3.551336e-01</td>\n",
              "      <td>6.155979e+03</td>\n",
              "      <td>7.755753e+03</td>\n",
              "      <td>1.954072e-01</td>\n",
              "    </tr>\n",
              "    <tr>\n",
              "      <th>min</th>\n",
              "      <td>NaN</td>\n",
              "      <td>1.000000e+00</td>\n",
              "      <td>0.000000e+00</td>\n",
              "      <td>0.000000e+00</td>\n",
              "      <td>0.000000e+00</td>\n",
              "      <td>0.000000e+00</td>\n",
              "      <td>2.015010e+07</td>\n",
              "      <td>1.970010e+07</td>\n",
              "      <td>0.000000e+00</td>\n",
              "    </tr>\n",
              "    <tr>\n",
              "      <th>25%</th>\n",
              "      <td>NaN</td>\n",
              "      <td>3.800000e+01</td>\n",
              "      <td>3.000000e+01</td>\n",
              "      <td>9.900000e+01</td>\n",
              "      <td>9.900000e+01</td>\n",
              "      <td>1.000000e+00</td>\n",
              "      <td>2.015091e+07</td>\n",
              "      <td>2.015102e+07</td>\n",
              "      <td>0.000000e+00</td>\n",
              "    </tr>\n",
              "    <tr>\n",
              "      <th>50%</th>\n",
              "      <td>NaN</td>\n",
              "      <td>4.100000e+01</td>\n",
              "      <td>3.000000e+01</td>\n",
              "      <td>1.490000e+02</td>\n",
              "      <td>1.490000e+02</td>\n",
              "      <td>1.000000e+00</td>\n",
              "      <td>2.016032e+07</td>\n",
              "      <td>2.016043e+07</td>\n",
              "      <td>0.000000e+00</td>\n",
              "    </tr>\n",
              "    <tr>\n",
              "      <th>75%</th>\n",
              "      <td>NaN</td>\n",
              "      <td>4.100000e+01</td>\n",
              "      <td>3.000000e+01</td>\n",
              "      <td>1.490000e+02</td>\n",
              "      <td>1.490000e+02</td>\n",
              "      <td>1.000000e+00</td>\n",
              "      <td>2.016092e+07</td>\n",
              "      <td>2.016103e+07</td>\n",
              "      <td>0.000000e+00</td>\n",
              "    </tr>\n",
              "    <tr>\n",
              "      <th>max</th>\n",
              "      <td>NaN</td>\n",
              "      <td>4.100000e+01</td>\n",
              "      <td>4.500000e+02</td>\n",
              "      <td>2.000000e+03</td>\n",
              "      <td>2.000000e+03</td>\n",
              "      <td>1.000000e+00</td>\n",
              "      <td>2.017023e+07</td>\n",
              "      <td>2.017033e+07</td>\n",
              "      <td>1.000000e+00</td>\n",
              "    </tr>\n",
              "  </tbody>\n",
              "</table>\n",
              "</div>\n",
              "    <div class=\"colab-df-buttons\">\n",
              "\n",
              "  <div class=\"colab-df-container\">\n",
              "    <button class=\"colab-df-convert\" onclick=\"convertToInteractive('df-811e4055-600d-454f-9a4a-7f8f756a23c0')\"\n",
              "            title=\"Convert this dataframe to an interactive table.\"\n",
              "            style=\"display:none;\">\n",
              "\n",
              "  <svg xmlns=\"http://www.w3.org/2000/svg\" height=\"24px\" viewBox=\"0 -960 960 960\">\n",
              "    <path d=\"M120-120v-720h720v720H120Zm60-500h600v-160H180v160Zm220 220h160v-160H400v160Zm0 220h160v-160H400v160ZM180-400h160v-160H180v160Zm440 0h160v-160H620v160ZM180-180h160v-160H180v160Zm440 0h160v-160H620v160Z\"/>\n",
              "  </svg>\n",
              "    </button>\n",
              "\n",
              "  <style>\n",
              "    .colab-df-container {\n",
              "      display:flex;\n",
              "      gap: 12px;\n",
              "    }\n",
              "\n",
              "    .colab-df-convert {\n",
              "      background-color: #E8F0FE;\n",
              "      border: none;\n",
              "      border-radius: 50%;\n",
              "      cursor: pointer;\n",
              "      display: none;\n",
              "      fill: #1967D2;\n",
              "      height: 32px;\n",
              "      padding: 0 0 0 0;\n",
              "      width: 32px;\n",
              "    }\n",
              "\n",
              "    .colab-df-convert:hover {\n",
              "      background-color: #E2EBFA;\n",
              "      box-shadow: 0px 1px 2px rgba(60, 64, 67, 0.3), 0px 1px 3px 1px rgba(60, 64, 67, 0.15);\n",
              "      fill: #174EA6;\n",
              "    }\n",
              "\n",
              "    .colab-df-buttons div {\n",
              "      margin-bottom: 4px;\n",
              "    }\n",
              "\n",
              "    [theme=dark] .colab-df-convert {\n",
              "      background-color: #3B4455;\n",
              "      fill: #D2E3FC;\n",
              "    }\n",
              "\n",
              "    [theme=dark] .colab-df-convert:hover {\n",
              "      background-color: #434B5C;\n",
              "      box-shadow: 0px 1px 3px 1px rgba(0, 0, 0, 0.15);\n",
              "      filter: drop-shadow(0px 1px 2px rgba(0, 0, 0, 0.3));\n",
              "      fill: #FFFFFF;\n",
              "    }\n",
              "  </style>\n",
              "\n",
              "    <script>\n",
              "      const buttonEl =\n",
              "        document.querySelector('#df-811e4055-600d-454f-9a4a-7f8f756a23c0 button.colab-df-convert');\n",
              "      buttonEl.style.display =\n",
              "        google.colab.kernel.accessAllowed ? 'block' : 'none';\n",
              "\n",
              "      async function convertToInteractive(key) {\n",
              "        const element = document.querySelector('#df-811e4055-600d-454f-9a4a-7f8f756a23c0');\n",
              "        const dataTable =\n",
              "          await google.colab.kernel.invokeFunction('convertToInteractive',\n",
              "                                                    [key], {});\n",
              "        if (!dataTable) return;\n",
              "\n",
              "        const docLinkHtml = 'Like what you see? Visit the ' +\n",
              "          '<a target=\"_blank\" href=https://colab.research.google.com/notebooks/data_table.ipynb>data table notebook</a>'\n",
              "          + ' to learn more about interactive tables.';\n",
              "        element.innerHTML = '';\n",
              "        dataTable['output_type'] = 'display_data';\n",
              "        await google.colab.output.renderOutput(dataTable, element);\n",
              "        const docLink = document.createElement('div');\n",
              "        docLink.innerHTML = docLinkHtml;\n",
              "        element.appendChild(docLink);\n",
              "      }\n",
              "    </script>\n",
              "  </div>\n",
              "\n",
              "\n",
              "    <div id=\"df-0144d150-8a55-4e5a-a659-afafa29c23eb\">\n",
              "      <button class=\"colab-df-quickchart\" onclick=\"quickchart('df-0144d150-8a55-4e5a-a659-afafa29c23eb')\"\n",
              "                title=\"Suggest charts\"\n",
              "                style=\"display:none;\">\n",
              "\n",
              "<svg xmlns=\"http://www.w3.org/2000/svg\" height=\"24px\"viewBox=\"0 0 24 24\"\n",
              "     width=\"24px\">\n",
              "    <g>\n",
              "        <path d=\"M19 3H5c-1.1 0-2 .9-2 2v14c0 1.1.9 2 2 2h14c1.1 0 2-.9 2-2V5c0-1.1-.9-2-2-2zM9 17H7v-7h2v7zm4 0h-2V7h2v10zm4 0h-2v-4h2v4z\"/>\n",
              "    </g>\n",
              "</svg>\n",
              "      </button>\n",
              "\n",
              "<style>\n",
              "  .colab-df-quickchart {\n",
              "      --bg-color: #E8F0FE;\n",
              "      --fill-color: #1967D2;\n",
              "      --hover-bg-color: #E2EBFA;\n",
              "      --hover-fill-color: #174EA6;\n",
              "      --disabled-fill-color: #AAA;\n",
              "      --disabled-bg-color: #DDD;\n",
              "  }\n",
              "\n",
              "  [theme=dark] .colab-df-quickchart {\n",
              "      --bg-color: #3B4455;\n",
              "      --fill-color: #D2E3FC;\n",
              "      --hover-bg-color: #434B5C;\n",
              "      --hover-fill-color: #FFFFFF;\n",
              "      --disabled-bg-color: #3B4455;\n",
              "      --disabled-fill-color: #666;\n",
              "  }\n",
              "\n",
              "  .colab-df-quickchart {\n",
              "    background-color: var(--bg-color);\n",
              "    border: none;\n",
              "    border-radius: 50%;\n",
              "    cursor: pointer;\n",
              "    display: none;\n",
              "    fill: var(--fill-color);\n",
              "    height: 32px;\n",
              "    padding: 0;\n",
              "    width: 32px;\n",
              "  }\n",
              "\n",
              "  .colab-df-quickchart:hover {\n",
              "    background-color: var(--hover-bg-color);\n",
              "    box-shadow: 0 1px 2px rgba(60, 64, 67, 0.3), 0 1px 3px 1px rgba(60, 64, 67, 0.15);\n",
              "    fill: var(--button-hover-fill-color);\n",
              "  }\n",
              "\n",
              "  .colab-df-quickchart-complete:disabled,\n",
              "  .colab-df-quickchart-complete:disabled:hover {\n",
              "    background-color: var(--disabled-bg-color);\n",
              "    fill: var(--disabled-fill-color);\n",
              "    box-shadow: none;\n",
              "  }\n",
              "\n",
              "  .colab-df-spinner {\n",
              "    border: 2px solid var(--fill-color);\n",
              "    border-color: transparent;\n",
              "    border-bottom-color: var(--fill-color);\n",
              "    animation:\n",
              "      spin 1s steps(1) infinite;\n",
              "  }\n",
              "\n",
              "  @keyframes spin {\n",
              "    0% {\n",
              "      border-color: transparent;\n",
              "      border-bottom-color: var(--fill-color);\n",
              "      border-left-color: var(--fill-color);\n",
              "    }\n",
              "    20% {\n",
              "      border-color: transparent;\n",
              "      border-left-color: var(--fill-color);\n",
              "      border-top-color: var(--fill-color);\n",
              "    }\n",
              "    30% {\n",
              "      border-color: transparent;\n",
              "      border-left-color: var(--fill-color);\n",
              "      border-top-color: var(--fill-color);\n",
              "      border-right-color: var(--fill-color);\n",
              "    }\n",
              "    40% {\n",
              "      border-color: transparent;\n",
              "      border-right-color: var(--fill-color);\n",
              "      border-top-color: var(--fill-color);\n",
              "    }\n",
              "    60% {\n",
              "      border-color: transparent;\n",
              "      border-right-color: var(--fill-color);\n",
              "    }\n",
              "    80% {\n",
              "      border-color: transparent;\n",
              "      border-right-color: var(--fill-color);\n",
              "      border-bottom-color: var(--fill-color);\n",
              "    }\n",
              "    90% {\n",
              "      border-color: transparent;\n",
              "      border-bottom-color: var(--fill-color);\n",
              "    }\n",
              "  }\n",
              "</style>\n",
              "\n",
              "      <script>\n",
              "        async function quickchart(key) {\n",
              "          const quickchartButtonEl =\n",
              "            document.querySelector('#' + key + ' button');\n",
              "          quickchartButtonEl.disabled = true;  // To prevent multiple clicks.\n",
              "          quickchartButtonEl.classList.add('colab-df-spinner');\n",
              "          try {\n",
              "            const charts = await google.colab.kernel.invokeFunction(\n",
              "                'suggestCharts', [key], {});\n",
              "          } catch (error) {\n",
              "            console.error('Error during call to suggestCharts:', error);\n",
              "          }\n",
              "          quickchartButtonEl.classList.remove('colab-df-spinner');\n",
              "          quickchartButtonEl.classList.add('colab-df-quickchart-complete');\n",
              "        }\n",
              "        (() => {\n",
              "          let quickchartButtonEl =\n",
              "            document.querySelector('#df-0144d150-8a55-4e5a-a659-afafa29c23eb button');\n",
              "          quickchartButtonEl.style.display =\n",
              "            google.colab.kernel.accessAllowed ? 'block' : 'none';\n",
              "        })();\n",
              "      </script>\n",
              "    </div>\n",
              "\n",
              "    </div>\n",
              "  </div>\n"
            ],
            "application/vnd.google.colaboratory.intrinsic+json": {
              "type": "dataframe",
              "summary": "{\n  \"name\": \"transactions\",\n  \"rows\": 11,\n  \"fields\": [\n    {\n      \"column\": \"msno\",\n      \"properties\": {\n        \"dtype\": \"category\",\n        \"num_unique_values\": 4,\n        \"samples\": [\n          2363626,\n          \"71\",\n          \"21547746\"\n        ],\n        \"semantic_type\": \"\",\n        \"description\": \"\"\n      }\n    },\n    {\n      \"column\": \"payment_method_id\",\n      \"properties\": {\n        \"dtype\": \"number\",\n        \"std\": 7618268.33213002,\n        \"min\": 1.0,\n        \"max\": 21547746.0,\n        \"num_unique_values\": 6,\n        \"samples\": [\n          21547746.0,\n          38.933103026181946,\n          41.0\n        ],\n        \"semantic_type\": \"\",\n        \"description\": \"\"\n      }\n    },\n    {\n      \"column\": \"payment_plan_days\",\n      \"properties\": {\n        \"dtype\": \"number\",\n        \"std\": 7618248.269184652,\n        \"min\": 0.0,\n        \"max\": 21547746.0,\n        \"num_unique_values\": 6,\n        \"samples\": [\n          21547746.0,\n          31.33906284211815,\n          450.0\n        ],\n        \"semantic_type\": \"\",\n        \"description\": \"\"\n      }\n    },\n    {\n      \"column\": \"plan_list_price\",\n      \"properties\": {\n        \"dtype\": \"number\",\n        \"std\": 7618143.940007285,\n        \"min\": 0.0,\n        \"max\": 21547746.0,\n        \"num_unique_values\": 7,\n        \"samples\": [\n          21547746.0,\n          139.88501507303826,\n          149.0\n        ],\n        \"semantic_type\": \"\",\n        \"description\": \"\"\n      }\n    },\n    {\n      \"column\": \"actual_amount_paid\",\n      \"properties\": {\n        \"dtype\": \"number\",\n        \"std\": 7618143.757151618,\n        \"min\": 0.0,\n        \"max\": 21547746.0,\n        \"num_unique_values\": 7,\n        \"samples\": [\n          21547746.0,\n          141.98732048354384,\n          149.0\n        ],\n        \"semantic_type\": \"\",\n        \"description\": \"\"\n      }\n    },\n    {\n      \"column\": \"is_auto_renew\",\n      \"properties\": {\n        \"dtype\": \"number\",\n        \"std\": 7618278.394944412,\n        \"min\": 0.0,\n        \"max\": 21547746.0,\n        \"num_unique_values\": 5,\n        \"samples\": [\n          0.8519661406812573,\n          1.0,\n          0.3551335546562723\n        ],\n        \"semantic_type\": \"\",\n        \"description\": \"\"\n      }\n    },\n    {\n      \"column\": \"transaction_date\",\n      \"properties\": {\n        \"dtype\": \"number\",\n        \"std\": 7211461.062504529,\n        \"min\": 6155.979049662832,\n        \"max\": 21547746.0,\n        \"num_unique_values\": 8,\n        \"samples\": [\n          20157597.160606544,\n          20160321.0,\n          21547746.0\n        ],\n        \"semantic_type\": \"\",\n        \"description\": \"\"\n      }\n    },\n    {\n      \"column\": \"membership_expire_date\",\n      \"properties\": {\n        \"dtype\": \"number\",\n        \"std\": 7191862.502934585,\n        \"min\": 7755.752698915447,\n        \"max\": 21547746.0,\n        \"num_unique_values\": 8,\n        \"samples\": [\n          20158624.778724514,\n          20160430.0,\n          21547746.0\n        ],\n        \"semantic_type\": \"\",\n        \"description\": \"\"\n      }\n    },\n    {\n      \"column\": \"is_cancel\",\n      \"properties\": {\n        \"dtype\": \"number\",\n        \"std\": 7618278.595557034,\n        \"min\": 0.0,\n        \"max\": 21547746.0,\n        \"num_unique_values\": 5,\n        \"samples\": [\n          0.03976522648819046,\n          1.0,\n          0.19540715194237543\n        ],\n        \"semantic_type\": \"\",\n        \"description\": \"\"\n      }\n    }\n  ]\n}"
            }
          },
          "metadata": {},
          "execution_count": 11
        }
      ]
    },
    {
      "cell_type": "markdown",
      "source": [
        "#### Data Quality Checks (Members & Transactions)"
      ],
      "metadata": {
        "id": "1yBbkn266nRy"
      }
    },
    {
      "cell_type": "markdown",
      "source": [
        "Before diving deeper into feature engineering, it’s important to check for:\n",
        "- **Missing values** (gender is highly incomplete, bd has many invalid ages).  \n",
        "- **Duplicates** (user profiles or repeated transactions).  \n",
        "- **Coverage across tables** (do all churn-labeled users appear in members and transactions?).  \n",
        "- **Sanity of ranges**:\n",
        "  - Age (`bd`) has extreme outliers (clip to 10–100).  \n",
        "  - Gender has many missing values (treat as “unknown”).  \n",
        "  - Transaction dates align with membership expiration.  \n",
        "  - Plan lengths and prices are within expected ranges.  "
      ],
      "metadata": {
        "id": "bXKHmMoH6yrp"
      }
    },
    {
      "cell_type": "markdown",
      "source": [
        "#### Members Exploration & Data Quality Checks"
      ],
      "metadata": {
        "id": "kRn_Rsjp_SDw"
      }
    },
    {
      "cell_type": "markdown",
      "source": [
        "The members table provides user demographics and registration info.  \n",
        "Key checks here:  \n",
        "- Missing values and duplicates  \n",
        "- Validity of age (`bd`)  \n",
        "- Gender completeness  \n",
        "- Registration channel distribution (`registered_via`)  \n",
        "- Registration dates and coverage  \n",
        "\n",
        "We’ll clean `bd` (clip to realistic range), fill missing genders as \"unknown\", and convert registration dates to datetime."
      ],
      "metadata": {
        "id": "yZ-tcx-p-HC1"
      }
    },
    {
      "cell_type": "code",
      "source": [
        "# --- Missing values ---\n",
        "print(\"Missing values per column:\")\n",
        "print(members.isnull().sum())\n",
        "\n",
        "# --- Duplicates ---\n",
        "print(\"\\nNumber of duplicate rows:\", members.duplicated().sum())\n",
        "\n",
        "# --- Unique users ---\n",
        "print(\"\\nUnique users in members:\", members['msno'].nunique())\n",
        "\n",
        "# --- Gender distribution ---\n",
        "print(\"\\nGender distribution:\")\n",
        "print(members['gender'].value_counts(dropna=False))\n",
        "\n",
        "# --- Age (bd) sanity check ---\n",
        "print(\"\\nAge stats (bd):\")\n",
        "print(members['bd'].describe())\n",
        "\n",
        "# --- Registration channel ---\n",
        "print(\"\\nRegistered via distribution:\")\n",
        "print(members['registered_via'].value_counts())\n",
        "\n",
        "# --- Convert registration date ---\n",
        "members['registration_init_time'] = pd.to_datetime(members['registration_init_time'], format='%Y%m%d')\n",
        "print(\"\\nRegistration date range:\",\n",
        "      members['registration_init_time'].min(), \"→\", members['registration_init_time'].max())\n"
      ],
      "metadata": {
        "colab": {
          "base_uri": "https://localhost:8080/"
        },
        "id": "_sAldgLq9YYN",
        "outputId": "98dea7fb-1395-449d-f3d3-5fab6710c55e"
      },
      "execution_count": null,
      "outputs": [
        {
          "output_type": "stream",
          "name": "stdout",
          "text": [
            "Missing values per column:\n",
            "msno                            0\n",
            "city                            0\n",
            "bd                              0\n",
            "gender                    4429505\n",
            "registered_via                  0\n",
            "registration_init_time          0\n",
            "dtype: int64\n",
            "\n",
            "Number of duplicate rows: 0\n",
            "\n",
            "Unique users in members: 6769473\n",
            "\n",
            "Gender distribution:\n",
            "gender\n",
            "NaN       4429505\n",
            "male      1195355\n",
            "female    1144613\n",
            "Name: count, dtype: int64\n",
            "\n",
            "Age stats (bd):\n",
            "count    6.769473e+06\n",
            "mean     9.795794e+00\n",
            "std      1.792590e+01\n",
            "min     -7.168000e+03\n",
            "25%      0.000000e+00\n",
            "50%      0.000000e+00\n",
            "75%      2.100000e+01\n",
            "max      2.016000e+03\n",
            "Name: bd, dtype: float64\n",
            "\n",
            "Registered via distribution:\n",
            "registered_via\n",
            " 4     2793213\n",
            " 3     1643208\n",
            " 9     1482863\n",
            " 7      805895\n",
            " 11      25047\n",
            " 13       5455\n",
            " 8        3982\n",
            " 5        3115\n",
            " 17       1494\n",
            " 2        1452\n",
            " 6        1213\n",
            " 19        974\n",
            " 16        888\n",
            " 14        615\n",
            " 1          43\n",
            " 10         10\n",
            " 18          5\n",
            "-1           1\n",
            "Name: count, dtype: int64\n",
            "\n",
            "Registration date range: 2004-03-26 00:00:00 → 2017-04-29 00:00:00\n"
          ]
        }
      ]
    },
    {
      "cell_type": "markdown",
      "source": [
        "### Members Cleaning"
      ],
      "metadata": {
        "id": "i1p3NOcklMM0"
      }
    },
    {
      "cell_type": "code",
      "source": [
        "# ---------- MEMBERS CLEAN ----------\n",
        "members_clean = members.copy()\n",
        "\n",
        "# Age: keep only 10–100, else NaN (numeric dtype preserved)\n",
        "members_clean[\"bd\"] = members_clean[\"bd\"].apply(lambda x: x if 10 <= x <= 100 else np.nan)\n",
        "\n",
        "# Gender: fill missing as 'unknown'\n",
        "members_clean[\"gender\"] = members_clean[\"gender\"].fillna(\"unknown\")\n",
        "\n",
        "# Optional: guard against future/leaky dates (after dataset window end)\n",
        "members_clean.loc[members_clean[\"registration_init_time\"] > pd.Timestamp(\"2017-04-30\"), \"registration_init_time\"] = pd.NaT\n",
        "\n",
        "# Convenience features (cheap & useful)\n",
        "members_clean[\"reg_year\"]  = members_clean[\"registration_init_time\"].dt.year\n",
        "members_clean[\"reg_month\"] = members_clean[\"registration_init_time\"].dt.month\n",
        "\n",
        "# Save\n",
        "members_clean_path = f\"{data_path}/members_clean.csv\"\n",
        "members_clean.to_csv(members_clean_path, index=False)\n",
        "print(\"Saved:\", members_clean_path, members_clean.shape)\n"
      ],
      "metadata": {
        "colab": {
          "base_uri": "https://localhost:8080/"
        },
        "id": "QNwnRbynlD-_",
        "outputId": "6cc314bb-c799-477a-a656-0f06673e1ec7"
      },
      "execution_count": null,
      "outputs": [
        {
          "output_type": "stream",
          "name": "stdout",
          "text": [
            "Saved: /content/drive/MyDrive/data_science_projects/kkbox_project/data/members_clean.csv (6769473, 8)\n"
          ]
        }
      ]
    },
    {
      "cell_type": "markdown",
      "source": [
        "📊Observations from members\n",
        "\n",
        "\n",
        "Age (bd) is unreliable and gender is mostly missing, but registration channel and registration date are strong, usable features.\n",
        "So the real signal in members will come from account age and signup channel, not demographics.\n",
        "\n"
      ],
      "metadata": {
        "id": "3KGWVtq9Eh8R"
      }
    },
    {
      "cell_type": "markdown",
      "source": [
        "#### Transactions Exploration & Data Quality Checks"
      ],
      "metadata": {
        "id": "HGDbx9yi_M5a"
      }
    },
    {
      "cell_type": "markdown",
      "source": [
        "The transactions table tracks subscription payments and cancellations for each user.  \n",
        "Key checks here:  \n",
        "- Missing values and duplicates  \n",
        "- Distribution of plan lengths and prices  \n",
        "- Auto-renew vs. cancellations  \n",
        "- Date ranges for transactions and membership expiry  \n",
        "\n",
        "This will help us create per-user subscription features later (e.g., average plan length, churn signals from cancellations)."
      ],
      "metadata": {
        "id": "2NoOy8eS-5Op"
      }
    },
    {
      "cell_type": "code",
      "source": [
        "# --- Missing values ---\n",
        "print(\"Missing values per column:\")\n",
        "print(transactions.isnull().sum())\n",
        "\n",
        "# --- Duplicates ---\n",
        "print(\"\\nNumber of duplicate rows:\", transactions.duplicated().sum())\n",
        "\n",
        "# --- Unique users covered ---\n",
        "print(\"\\nUnique users in transactions:\", transactions['msno'].nunique())\n",
        "\n",
        "# --- Distribution checks ---\n",
        "print(\"\\nPlan length (days):\")\n",
        "print(transactions['payment_plan_days'].value_counts().head(10))\n",
        "\n",
        "print(\"\\nAuto-renew flag:\")\n",
        "print(transactions['is_auto_renew'].value_counts())\n",
        "\n",
        "print(\"\\nCancellation flag:\")\n",
        "print(transactions['is_cancel'].value_counts())\n",
        "\n",
        "print(\"\\nPlan price stats:\")\n",
        "print(transactions['plan_list_price'].describe())\n",
        "print(\"\\nAmount actually paid stats:\")\n",
        "print(transactions['actual_amount_paid'].describe())\n",
        "\n",
        "# --- Convert dates ---\n",
        "transactions['transaction_date'] = pd.to_datetime(transactions['transaction_date'], format='%Y%m%d')\n",
        "transactions['membership_expire_date'] = pd.to_datetime(transactions['membership_expire_date'], format='%Y%m%d')\n",
        "\n",
        "print(\"\\nTransaction date range:\",\n",
        "      transactions['transaction_date'].min(), \"→\", transactions['transaction_date'].max())\n",
        "\n",
        "print(\"Membership expiry range:\",\n",
        "      transactions['membership_expire_date'].min(), \"→\", transactions['membership_expire_date'].max())\n"
      ],
      "metadata": {
        "colab": {
          "base_uri": "https://localhost:8080/"
        },
        "id": "QTFPj4Dm-4cK",
        "outputId": "30ed297e-a4c6-4945-cfb8-4f4e702fcc29"
      },
      "execution_count": null,
      "outputs": [
        {
          "output_type": "stream",
          "name": "stdout",
          "text": [
            "Missing values per column:\n",
            "msno                      0\n",
            "payment_method_id         0\n",
            "payment_plan_days         0\n",
            "plan_list_price           0\n",
            "actual_amount_paid        0\n",
            "is_auto_renew             0\n",
            "transaction_date          0\n",
            "membership_expire_date    0\n",
            "is_cancel                 0\n",
            "dtype: int64\n",
            "\n",
            "Number of duplicate rows: 3339\n",
            "\n",
            "Unique users in transactions: 2363626\n",
            "\n",
            "Plan length (days):\n",
            "payment_plan_days\n",
            "30     18956290\n",
            "0        870124\n",
            "31       766608\n",
            "7        577639\n",
            "195      110234\n",
            "410       80139\n",
            "180       52272\n",
            "10        38216\n",
            "100       24154\n",
            "90        12310\n",
            "Name: count, dtype: int64\n",
            "\n",
            "Auto-renew flag:\n",
            "is_auto_renew\n",
            "1    18357950\n",
            "0     3189796\n",
            "Name: count, dtype: int64\n",
            "\n",
            "Cancellation flag:\n",
            "is_cancel\n",
            "0    20690895\n",
            "1      856851\n",
            "Name: count, dtype: int64\n",
            "\n",
            "Plan price stats:\n",
            "count    2.154775e+07\n",
            "mean     1.398850e+02\n",
            "std      1.309647e+02\n",
            "min      0.000000e+00\n",
            "25%      9.900000e+01\n",
            "50%      1.490000e+02\n",
            "75%      1.490000e+02\n",
            "max      2.000000e+03\n",
            "Name: plan_list_price, dtype: float64\n",
            "\n",
            "Amount actually paid stats:\n",
            "count    2.154775e+07\n",
            "mean     1.419873e+02\n",
            "std      1.324824e+02\n",
            "min      0.000000e+00\n",
            "25%      9.900000e+01\n",
            "50%      1.490000e+02\n",
            "75%      1.490000e+02\n",
            "max      2.000000e+03\n",
            "Name: actual_amount_paid, dtype: float64\n",
            "\n",
            "Transaction date range: 2015-01-01 00:00:00 → 2017-02-28 00:00:00\n",
            "Membership expiry range: 1970-01-01 00:00:00 → 2017-03-31 00:00:00\n"
          ]
        }
      ]
    },
    {
      "cell_type": "markdown",
      "source": [
        "### Transactions Cleaning"
      ],
      "metadata": {
        "id": "JBcfTa8Elr12"
      }
    },
    {
      "cell_type": "markdown",
      "source": [
        "📊Observations from transactions\n",
        "\n",
        "- 30-day plans dominate; some invalid 0-day entries need cleaning.  \n",
        "- ~85% of users auto-renew; non-renewals are potential churn signals.  \n",
        "- ~4% transactions are cancellations → strong churn predictor.  \n",
        "- Free/0-paid plans may signal trial churn.  \n",
        "- Expiry dates have invalid 1970 (epoch start)entries → must be cleaned.  "
      ],
      "metadata": {
        "id": "haibOa0SE704"
      }
    },
    {
      "cell_type": "code",
      "source": [
        "# ---------- TRANSACTIONS CLEAN ----------\n",
        "tx_clean = transactions.copy()\n",
        "\n",
        "# Drop exact duplicate rows (tiny, but harmless to remove)\n",
        "tx_clean = tx_clean.drop_duplicates()\n",
        "\n",
        "# Fix epoch/bad expiry dates (set to NaT if before year 2000)\n",
        "tx_clean.loc[tx_clean[\"membership_expire_date\"] < pd.Timestamp(\"2000-01-01\"), \"membership_expire_date\"] = pd.NaT\n",
        "\n",
        "# (Optional) clip absurd plan lengths; keep promos like 195/410\n",
        "tx_clean.loc[tx_clean[\"payment_plan_days\"] > 400, \"payment_plan_days\"] = 400\n",
        "\n",
        "# Helper flags (useful later even if you already created in agg)\n",
        "tx_clean[\"zero_paid\"] = (tx_clean[\"actual_amount_paid\"] == 0).astype(int)\n",
        "tx_clean[\"is_30d\"]    = (tx_clean[\"payment_plan_days\"] == 30).astype(int)\n",
        "tx_clean[\"discount_rate\"] = np.where(\n",
        "    tx_clean[\"plan_list_price\"] > 0,\n",
        "    1 - (tx_clean[\"actual_amount_paid\"] / tx_clean[\"plan_list_price\"]),\n",
        "    np.nan\n",
        ")\n"
      ],
      "metadata": {
        "id": "A-duPcdNUp9N"
      },
      "execution_count": null,
      "outputs": []
    },
    {
      "cell_type": "markdown",
      "source": [
        "## Step 3: Feature Engineering"
      ],
      "metadata": {
        "id": "iYA5KMLdIDBR"
      }
    },
    {
      "cell_type": "markdown",
      "source": [
        "We want to turn raw logs/transactions/demographics into user-level features that help predict churn."
      ],
      "metadata": {
        "id": "F7hK1EHyIVSi"
      }
    },
    {
      "cell_type": "markdown",
      "source": [
        "### Build per-user features from transactions"
      ],
      "metadata": {
        "id": "04UbGFBmIm3X"
      }
    },
    {
      "cell_type": "markdown",
      "source": [
        "Goal: collapse many transaction rows per user into a single row with churn-relevant signals:\n",
        "- activity: `n_txns`, `last_txn_date`\n",
        "- plan behavior: `avg_plan_days`, `share_30d`, `auto_renew_rate`, `cancel_rate`\n",
        "- payments: `avg_amount_paid`, `total_amount_paid`, `zero_paid_rate`, `avg_discount_rate`\n",
        "- recency/coverage: `last_expire_date`, `last_gap_days = last_expire_date − last_txn_date`\n",
        "\n",
        "We’ll also clean obvious bad dates (epoch 1970) and drop duplicates."
      ],
      "metadata": {
        "id": "xNkyUHr9KBI-"
      }
    },
    {
      "cell_type": "code",
      "source": [
        "# Helper columns\n",
        "tx_clean['zero_paid'] = (tx_clean['actual_amount_paid'] == 0).astype(int)\n",
        "tx_clean['is_30d'] = (tx_clean['payment_plan_days'] == 30).astype(int)\n",
        "tx_clean['discount_rate'] = np.where(\n",
        "    tx_clean['plan_list_price'] > 0,\n",
        "    1 - (tx_clean['actual_amount_paid'] / tx_clean['plan_list_price']),\n",
        "    np.nan\n",
        ")\n",
        "\n",
        "# --- Aggregate to one row per user ---\n",
        "tx_agg = tx_clean.groupby('msno').agg(\n",
        "    n_txns                = ('msno', 'size'),\n",
        "    cancel_rate           = ('is_cancel', 'mean'),\n",
        "    auto_renew_rate       = ('is_auto_renew', 'mean'),\n",
        "    avg_plan_days         = ('payment_plan_days', 'mean'),\n",
        "    std_plan_days         = ('payment_plan_days', 'std'),\n",
        "    share_30d             = ('is_30d', 'mean'),\n",
        "    zero_paid_rate        = ('zero_paid', 'mean'),\n",
        "    avg_amount_paid       = ('actual_amount_paid', 'mean'),\n",
        "    total_amount_paid     = ('actual_amount_paid', 'sum'),\n",
        "    avg_list_price        = ('plan_list_price', 'mean'),\n",
        "    avg_discount_rate     = ('discount_rate', 'mean'),\n",
        "    last_txn_date         = ('transaction_date', 'max'),\n",
        "    last_expire_date      = ('membership_expire_date', 'max'),\n",
        ").reset_index()\n",
        "\n",
        "# Post-agg feature: gap between last txn and expiry (days)\n",
        "tx_agg['last_gap_days'] = (tx_agg['last_expire_date'] - tx_agg['last_txn_date']).dt.days\n",
        "\n",
        "# Save for later merges\n",
        "data_path = \"/content/drive/MyDrive/data_science_projects/kkbox_project/data\"\n",
        "tx_agg_path = f\"{data_path}/tx_agg.csv\"\n",
        "tx_agg.to_csv(tx_agg_path, index=False)\n",
        "\n",
        "tx_agg.shape, tx_agg.head()\n",
        "\n",
        "# Save\n",
        "tx_agg_path = f\"{data_path}/tx_agg.csv\"\n",
        "tx_agg.to_csv(tx_agg_path, index=False)\n",
        "print(\"Saved:\", tx_agg_path, members_clean.shape)\n"
      ],
      "metadata": {
        "colab": {
          "base_uri": "https://localhost:8080/"
        },
        "id": "ZHfLVl9mIohh",
        "outputId": "e10ae0d5-d741-4d20-c5fd-7cd860261eaa"
      },
      "execution_count": null,
      "outputs": [
        {
          "output_type": "stream",
          "name": "stdout",
          "text": [
            "Saved: /content/drive/MyDrive/data_science_projects/kkbox_project/data/tx_agg.csv (6769473, 8)\n"
          ]
        }
      ]
    },
    {
      "cell_type": "markdown",
      "source": [
        "What we have is a per-user aggregated transactions dataset — 236,3626 users (≈2.36M), each row describing their subscription/payment behavior.\n",
        "\n",
        "- Each column is a new feature that didn’t exist before:\n",
        "\n",
        "- Engagement with payments: n_txns, total_amount_paid, avg_plan_days\n",
        "\n",
        "- Churn-related signals: cancel_rate, auto_renew_rate, zero_paid_rate\n",
        "\n",
        "- Financial behavior: avg_amount_paid, avg_discount_rate\n",
        "\n",
        "- Recency features: last_txn_date, last_expire_date, last_gap_days\n",
        "\n",
        "Now we can merge these features into train (for the ~1M labeled churn users) to enrich our modeling dataset."
      ],
      "metadata": {
        "id": "W8cijG47MQaD"
      }
    },
    {
      "cell_type": "markdown",
      "source": [
        "### Engagement Features from `user_logs.csv` (chunked)\n",
        "\n",
        "Goal: turn daily logs (28GB) into per-user features without blowing RAM.\n",
        "\n",
        "Features we’ll compute:\n",
        "- `active_days` (nunique dates)\n",
        "- `total_secs_sum`, `total_secs_mean`\n",
        "- `total_listens` = sum of (num_25 + num_50 + num_75 + num_985 + num_100)\n",
        "- `completion_ratio` = (num_985 + num_100) / total_listens\n",
        "- `avg_unique_songs_per_day` = mean(num_unq)\n",
        "- `max_unique_songs_per_day` = max(num_unq)\n",
        "- `last_activity_date` (max date)"
      ],
      "metadata": {
        "id": "sGgPWOD0NB3g"
      }
    },
    {
      "cell_type": "code",
      "source": [
        "from collections import defaultdict\n",
        "\n",
        "data_path = \"/content/drive/MyDrive/data_science_projects/kkbox_project/data\"\n",
        "logs_file = f\"{data_path}/user_logs.csv\"\n",
        "\n",
        "# Read only needed cols; set dtypes to keep memory down\n",
        "usecols = [\"msno\",\"date\",\"num_25\",\"num_50\",\"num_75\",\"num_985\",\"num_100\",\"num_unq\",\"total_secs\"]\n",
        "dtypes = {\n",
        "    \"msno\":\"category\",\n",
        "    \"date\":\"int32\",\n",
        "    \"num_25\":\"int32\",\"num_50\":\"int32\",\"num_75\":\"int32\",\"num_985\":\"int32\",\"num_100\":\"int32\",\n",
        "    \"num_unq\":\"int32\",\n",
        "    \"total_secs\":\"float32\",\n",
        "}\n",
        "\n",
        "# Accumulators\n",
        "sum_total_secs   = defaultdict(float)\n",
        "cnt_days         = defaultdict(int)     # we’ll compute nunique(date) with a helper set per chunk\n",
        "sum_listens      = defaultdict(int)\n",
        "sum_complete     = defaultdict(int)     # num_985 + num_100\n",
        "sum_num_unq      = defaultdict(float)\n",
        "max_num_unq      = defaultdict(int)\n",
        "last_activity    = defaultdict(int)     # keep max yyyymmdd per user\n",
        "\n",
        "# For active_days (nunique) at scale:\n",
        "# We’ll compute per-chunk nunique dates and add them with a trick:\n",
        "# count a user-date pair once per chunk, then sum across chunks using a set of seen keys per chunk only.\n",
        "chunksize = 5_000_000  # drop to 2_000_000 if you hit memory errors\n",
        "\n",
        "reader = pd.read_csv(logs_file, usecols=usecols, dtype=dtypes, chunksize=chunksize)\n",
        "for i, chunk in enumerate(reader, start=1):\n",
        "    # date -> datetime later; here keep as int for speed\n",
        "    # Per-row helpers\n",
        "    listens_cols = [\"num_25\",\"num_50\",\"num_75\",\"num_985\",\"num_100\"]\n",
        "    chunk[\"total_listens\"] = chunk[listens_cols].sum(axis=1)\n",
        "    chunk[\"complete_count\"] = chunk[\"num_985\"] + chunk[\"num_100\"]\n",
        "\n",
        "    # Aggregate simple sums / means\n",
        "    g = chunk.groupby(\"msno\", observed=True)\n",
        "\n",
        "    # Sums\n",
        "    s_total_secs   = g[\"total_secs\"].sum()\n",
        "    s_listens      = g[\"total_listens\"].sum()\n",
        "    s_complete     = g[\"complete_count\"].sum()\n",
        "    s_sum_unq      = g[\"num_unq\"].sum()\n",
        "    s_max_unq      = g[\"num_unq\"].max()\n",
        "    s_last_date    = g[\"date\"].max()\n",
        "\n",
        "    # Nunique days per user in this chunk\n",
        "    # (count unique dates per user within the chunk, then add to global)\n",
        "    s_active_days  = g[\"date\"].nunique()\n",
        "\n",
        "    # Commit to dictionaries\n",
        "    for k, v in s_total_secs.items():   sum_total_secs[k] += float(v)\n",
        "    for k, v in s_listens.items():      sum_listens[k]    += int(v)\n",
        "    for k, v in s_complete.items():     sum_complete[k]   += int(v)\n",
        "    for k, v in s_sum_unq.items():      sum_num_unq[k]    += float(v)\n",
        "    for k, v in s_max_unq.items():      max_num_unq[k]     = max(max_num_unq[k], int(v))\n",
        "    for k, v in s_last_date.items():    last_activity[k]   = max(last_activity[k], int(v))\n",
        "    for k, v in s_active_days.items():  cnt_days[k]       += int(v)\n",
        "\n",
        "    if i % 5 == 0:\n",
        "        print(f\"Processed ~{i*chunksize:,} rows\")\n",
        "\n",
        "# Build dataframe\n",
        "users = list(sum_total_secs.keys() | sum_listens.keys() | sum_complete.keys() | sum_num_unq.keys() | cnt_days.keys() | last_activity.keys())\n",
        "\n",
        "logs_agg = pd.DataFrame({\n",
        "    \"msno\": users,\n",
        "    \"total_secs_sum\":   [sum_total_secs[u] for u in users],\n",
        "    \"total_listens\":    [sum_listens[u]    for u in users],\n",
        "    \"complete_listens\": [sum_complete[u]   for u in users],\n",
        "    \"sum_num_unq\":      [sum_num_unq[u]    for u in users],\n",
        "    \"active_days\":      [cnt_days[u]       for u in users],\n",
        "    \"max_unique_songs_per_day\": [max_num_unq[u] for u in users],\n",
        "    \"last_activity_date_int\":   [last_activity[u] for u in users],\n",
        "})\n",
        "\n",
        "# Derived features\n",
        "logs_agg[\"total_secs_mean\"] = logs_agg[\"total_secs_sum\"] / logs_agg[\"active_days\"].replace(0, np.nan)\n",
        "logs_agg[\"avg_unique_songs_per_day\"] = logs_agg[\"sum_num_unq\"] / logs_agg[\"active_days\"].replace(0, np.nan)\n",
        "logs_agg[\"completion_ratio\"] = logs_agg[\"complete_listens\"] / logs_agg[\"total_listens\"].replace(0, np.nan)\n",
        "\n",
        "# Dates to datetime\n",
        "logs_agg[\"last_activity_date\"] = pd.to_datetime(logs_agg[\"last_activity_date_int\"].astype(\"Int64\").astype(\"string\"),\n",
        "                                                format=\"%Y%m%d\", errors=\"coerce\")\n",
        "logs_agg = logs_agg.drop(columns=[\"sum_num_unq\",\"last_activity_date_int\"])\n",
        "\n",
        "# Save\n",
        "logs_agg_path = f\"{data_path}/user_logs_agg.csv\"\n",
        "logs_agg.to_csv(logs_agg_path, index=False)\n",
        "\n",
        "logs_agg.shape, logs_agg.head()"
      ],
      "metadata": {
        "colab": {
          "base_uri": "https://localhost:8080/"
        },
        "id": "118zCmWGO5Ie",
        "outputId": "0501ef7b-ea0f-414f-c072-c2a9c90826b1"
      },
      "execution_count": null,
      "outputs": [
        {
          "output_type": "stream",
          "name": "stdout",
          "text": [
            "Processed ~25,000,000 rows\n",
            "Processed ~50,000,000 rows\n",
            "Processed ~75,000,000 rows\n",
            "Processed ~100,000,000 rows\n",
            "Processed ~125,000,000 rows\n",
            "Processed ~150,000,000 rows\n",
            "Processed ~175,000,000 rows\n",
            "Processed ~200,000,000 rows\n",
            "Processed ~225,000,000 rows\n",
            "Processed ~250,000,000 rows\n",
            "Processed ~275,000,000 rows\n",
            "Processed ~300,000,000 rows\n",
            "Processed ~325,000,000 rows\n",
            "Processed ~350,000,000 rows\n",
            "Processed ~375,000,000 rows\n"
          ]
        },
        {
          "output_type": "execute_result",
          "data": {
            "text/plain": [
              "((5234111, 10),\n",
              "                                            msno  total_secs_sum  \\\n",
              " 0  d8Hq2MBu9QFtrYs/QEUfJNzZFM4FlCEGMfPaYzreH0g=     2411.446114   \n",
              " 1  yJ5Fj6RI9luDuya317Yk07ED7i+RCMx5eGm5vLW599E=     5879.036865   \n",
              " 2  u9GYwkN8uYqDrfX5oxyUOGBU0RkH+0XJNxGF/77R45w=   138325.993286   \n",
              " 3  7vs42vOwsT+aIlARQ2C9+21iKO+HBfXrcd78vjvrhqY=      205.000000   \n",
              " 4  kUpDNFIDqtPys+nDYOlTO0IHAedOO7JEPULiiI5NW4U=      892.109024   \n",
              " \n",
              "    total_listens  complete_listens  active_days  max_unique_songs_per_day  \\\n",
              " 0             17                 7            3                        11   \n",
              " 1             45                24            2                        20   \n",
              " 2            575               518           10                       119   \n",
              " 3              1                 1            1                         1   \n",
              " 4             10                 2            2                         7   \n",
              " \n",
              "    total_secs_mean  avg_unique_songs_per_day  completion_ratio  \\\n",
              " 0       803.815371                  4.333333          0.411765   \n",
              " 1      2939.518433                 17.500000          0.533333   \n",
              " 2     13832.599329                 51.100000          0.900870   \n",
              " 3       205.000000                  1.000000          1.000000   \n",
              " 4       446.054512                  5.000000          0.200000   \n",
              " \n",
              "   last_activity_date  \n",
              " 0         2015-11-16  \n",
              " 1         2015-11-07  \n",
              " 2         2016-01-29  \n",
              " 3         2016-10-03  \n",
              " 4         2015-10-01  )"
            ]
          },
          "metadata": {},
          "execution_count": 50
        }
      ]
    },
    {
      "cell_type": "code",
      "source": [
        "logs_agg_path = f\"{data_path}/user_logs_agg.csv\"\n",
        "logs_agg.to_csv(logs_agg_path, index=False)\n",
        "print(\"Saved:\", logs_agg_path)"
      ],
      "metadata": {
        "colab": {
          "base_uri": "https://localhost:8080/"
        },
        "id": "q1jiUJFtUlwC",
        "outputId": "7d0880c8-b38c-4559-d6ac-4744e0db9b87"
      },
      "execution_count": null,
      "outputs": [
        {
          "output_type": "stream",
          "name": "stdout",
          "text": [
            "Saved: /content/drive/MyDrive/data_science_projects/kkbox_project/data/user_logs_agg.csv\n"
          ]
        }
      ]
    },
    {
      "cell_type": "markdown",
      "source": [
        "We now have cleaned datasets (members_clean.csv, tx_agg.csv, user_logs_agg.csv).\n",
        "\n",
        "In the next notebook (02_exploratory_data_analysis.ipynb), we’ll merge them with churn labels and analyze churn patterns."
      ],
      "metadata": {
        "id": "u5DuvTAutLSB"
      }
    }
  ]
}